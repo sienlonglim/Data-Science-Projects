{
 "cells": [
  {
   "cell_type": "code",
   "execution_count": 2,
   "metadata": {
    "_cell_guid": "b1076dfc-b9ad-4769-8c92-a6c4dae69d19",
    "_uuid": "8f2839f25d086af736a60e9eeb907d3b93b6e0e5",
    "execution": {
     "iopub.execute_input": "2022-08-28T11:52:02.115317Z",
     "iopub.status.busy": "2022-08-28T11:52:02.114783Z",
     "iopub.status.idle": "2022-08-28T11:52:03.081689Z",
     "shell.execute_reply": "2022-08-28T11:52:03.080463Z",
     "shell.execute_reply.started": "2022-08-28T11:52:02.115267Z"
    }
   },
   "outputs": [],
   "source": [
    "import numpy as np \n",
    "import pandas as pd \n",
    "import seaborn as sns\n",
    "import matplotlib.pyplot as plt\n",
    "%matplotlib inline\n",
    "        \n",
    "print('Setup complete')"
   ]
  },
  {
   "cell_type": "markdown",
   "metadata": {},
   "source": [
    "#  **Healthcare Employee Attrition Data**\n",
    "#  **Part 1 - EDA**"
   ]
  },
  {
   "cell_type": "markdown",
   "metadata": {},
   "source": [
    " # 1. Reading and cleaning the data\n",
    " - We first reading the csv file (indexed to EmployeeID) and check for the types of columns present.\n",
    " - Ensure that there are no null values."
   ]
  },
  {
   "cell_type": "code",
   "execution_count": 3,
   "metadata": {
    "execution": {
     "iopub.execute_input": "2022-08-28T11:52:03.085027Z",
     "iopub.status.busy": "2022-08-28T11:52:03.083791Z",
     "iopub.status.idle": "2022-08-28T11:52:03.153028Z",
     "shell.execute_reply": "2022-08-28T11:52:03.152019Z",
     "shell.execute_reply.started": "2022-08-28T11:52:03.084981Z"
    }
   },
   "outputs": [],
   "source": [
    "main_df = pd.read_csv('employee-attrition-for-healthcare/watson_healthcare_modified.csv', index_col = 'EmployeeID')\n",
    "display(main_df.head(5))\n",
    "cols = main_df.columns\n",
    "display(cols)"
   ]
  },
  {
   "cell_type": "code",
   "execution_count": 4,
   "metadata": {
    "execution": {
     "iopub.execute_input": "2022-08-28T11:52:03.155257Z",
     "iopub.status.busy": "2022-08-28T11:52:03.154503Z",
     "iopub.status.idle": "2022-08-28T11:52:03.168285Z",
     "shell.execute_reply": "2022-08-28T11:52:03.166803Z",
     "shell.execute_reply.started": "2022-08-28T11:52:03.155208Z"
    }
   },
   "outputs": [],
   "source": [
    "main_df.isnull().sum()"
   ]
  },
  {
   "cell_type": "markdown",
   "metadata": {},
   "source": [
    "- Next lets check for the uniqueness in values for each column."
   ]
  },
  {
   "cell_type": "code",
   "execution_count": 5,
   "metadata": {
    "execution": {
     "iopub.execute_input": "2022-08-28T11:52:03.172078Z",
     "iopub.status.busy": "2022-08-28T11:52:03.171247Z",
     "iopub.status.idle": "2022-08-28T11:52:03.298071Z",
     "shell.execute_reply": "2022-08-28T11:52:03.296681Z",
     "shell.execute_reply.started": "2022-08-28T11:52:03.172031Z"
    }
   },
   "outputs": [],
   "source": [
    "for n in cols:\n",
    "    print('Unique values of', n)\n",
    "    display(pd.unique(main_df[n]))\n",
    "    print()"
   ]
  },
  {
   "cell_type": "markdown",
   "metadata": {},
   "source": [
    "As we can see, there are some columns which lack clarification or are not meaningful from the source. These columns will be dropped.\n",
    "- EmployeeCount is always 1\n",
    "- StandardHours is always 80\n",
    "- Over18 is always Yes\n",
    "- Daily, hourly, monthly rate (no meaningful given)\n",
    "- JobRoles have both Administrative and Admin, which both should refer to the same category, we will rename this value."
   ]
  },
  {
   "cell_type": "code",
   "execution_count": 6,
   "metadata": {
    "execution": {
     "iopub.execute_input": "2022-08-28T11:52:03.300104Z",
     "iopub.status.busy": "2022-08-28T11:52:03.299648Z",
     "iopub.status.idle": "2022-08-28T11:52:03.328123Z",
     "shell.execute_reply": "2022-08-28T11:52:03.326955Z",
     "shell.execute_reply.started": "2022-08-28T11:52:03.300060Z"
    }
   },
   "outputs": [],
   "source": [
    "main_df.drop(['DailyRate', 'Over18','StandardHours', 'EmployeeCount', 'DailyRate','MonthlyRate', 'HourlyRate'], axis = 1, inplace = True)\n",
    "main_df.head()"
   ]
  },
  {
   "cell_type": "code",
   "execution_count": 7,
   "metadata": {
    "execution": {
     "iopub.execute_input": "2022-08-28T11:52:03.330290Z",
     "iopub.status.busy": "2022-08-28T11:52:03.329850Z",
     "iopub.status.idle": "2022-08-28T11:52:03.344590Z",
     "shell.execute_reply": "2022-08-28T11:52:03.343754Z",
     "shell.execute_reply.started": "2022-08-28T11:52:03.330247Z"
    }
   },
   "outputs": [],
   "source": [
    "cond = (main_df['JobRole']== 'Administrative')\n",
    "display(cond.sum())\n",
    "main_df.loc[cond, 'JobRole'] = 'Admin'\n",
    "display(cond.sum())"
   ]
  },
  {
   "cell_type": "markdown",
   "metadata": {},
   "source": [
    "# 2. Identifying patterns within Background History of Employees\n",
    "- We will see if there are any correlations between the employees' background history and their attrition."
   ]
  },
  {
   "cell_type": "code",
   "execution_count": 8,
   "metadata": {
    "execution": {
     "iopub.execute_input": "2022-08-28T11:52:03.346239Z",
     "iopub.status.busy": "2022-08-28T11:52:03.345906Z",
     "iopub.status.idle": "2022-08-28T11:52:04.117158Z",
     "shell.execute_reply": "2022-08-28T11:52:04.116060Z",
     "shell.execute_reply.started": "2022-08-28T11:52:03.346209Z"
    }
   },
   "outputs": [],
   "source": [
    "bg_history_df = main_df[['Attrition','Age', 'EducationField', 'Education', 'DistanceFromHome', 'MaritalStatus', 'Gender', 'NumCompaniesWorked', 'YearsAtCompany']]\n",
    "display(round(bg_history_df.describe(), 2))\n",
    "\n",
    "sns.catplot(data = bg_history_df, y = 'EducationField', hue = 'MaritalStatus', col = 'Attrition', kind = 'count', palette = 'Set1')"
   ]
  },
  {
   "cell_type": "markdown",
   "metadata": {},
   "source": [
    "- **Across all education fields, we see that healthcare employees that are single have the highest count of attrition.**\n",
    "- **Healthcare employees that are married tend to have a lower count of attrition**"
   ]
  },
  {
   "cell_type": "code",
   "execution_count": 9,
   "metadata": {
    "execution": {
     "iopub.execute_input": "2022-08-28T11:52:04.118771Z",
     "iopub.status.busy": "2022-08-28T11:52:04.118417Z",
     "iopub.status.idle": "2022-08-28T11:52:05.800274Z",
     "shell.execute_reply": "2022-08-28T11:52:05.799100Z",
     "shell.execute_reply.started": "2022-08-28T11:52:04.118738Z"
    }
   },
   "outputs": [],
   "source": [
    "plt.figure(figsize=(12,8))\n",
    "#sns.kdeplot(data = bg_history_df, x = 'Age', hue = 'Attrition')\n",
    "sns.swarmplot(data = bg_history_df, x = 'Attrition', y = 'Age', size = 4, palette = 'Set2')"
   ]
  },
  {
   "cell_type": "markdown",
   "metadata": {},
   "source": [
    "- **We notice that employees aged between 18 to 35 have the highest density of attrition.**"
   ]
  },
  {
   "cell_type": "code",
   "execution_count": 10,
   "metadata": {
    "execution": {
     "iopub.execute_input": "2022-08-28T11:52:05.802357Z",
     "iopub.status.busy": "2022-08-28T11:52:05.801664Z",
     "iopub.status.idle": "2022-08-28T11:52:06.070101Z",
     "shell.execute_reply": "2022-08-28T11:52:06.069180Z",
     "shell.execute_reply.started": "2022-08-28T11:52:05.802312Z"
    }
   },
   "outputs": [],
   "source": [
    "plt.figure(figsize=(10,8))\n",
    "display(sns.violinplot(data = bg_history_df, y = 'DistanceFromHome', \n",
    "                       x = 'MaritalStatus' , hue = 'Attrition', split = True,\n",
    "                      palette = 'Set2'))\n",
    "\n",
    "print('\\nMeans for Violinplot below')\n",
    "conditions = ['Single', 'Married', 'Divorced']\n",
    "for n in conditions:\n",
    "    cond = (bg_history_df['MaritalStatus'] == n) & (bg_history_df['Attrition'] == 'No')\n",
    "    print(n, 'Mean (No)',round((bg_history_df[cond]).DistanceFromHome.mean(), 4))\n",
    "    cond = (bg_history_df['MaritalStatus'] == n) & (bg_history_df['Attrition'] == 'Yes')\n",
    "    print(n, 'Mean (Yes)',round((bg_history_df[cond]).DistanceFromHome.mean(), 4))\n",
    "    print()"
   ]
  },
  {
   "cell_type": "markdown",
   "metadata": {},
   "source": [
    "- **Across all marital status, we see that there is a higher mean for distance from home that results in attrition, this is observed across all marital status and especially higher for married employees.**\n",
    "- **Employees that have a short distance from home (below 10) tend to have a low attrition rate**"
   ]
  },
  {
   "cell_type": "code",
   "execution_count": 11,
   "metadata": {
    "execution": {
     "iopub.execute_input": "2022-08-28T11:52:06.074971Z",
     "iopub.status.busy": "2022-08-28T11:52:06.074109Z",
     "iopub.status.idle": "2022-08-28T11:52:06.321535Z",
     "shell.execute_reply": "2022-08-28T11:52:06.320429Z",
     "shell.execute_reply.started": "2022-08-28T11:52:06.074929Z"
    }
   },
   "outputs": [],
   "source": [
    "plt.figure(figsize=(10,8))\n",
    "sns.histplot(data = bg_history_df, x = 'NumCompaniesWorked', hue = 'Attrition', \n",
    "             discrete = True, multiple = 'stack', palette = 'Set2')\n",
    "#sns.catplot(data = bg_history_df, x = 'NumCompaniesWorked', kind = 'count' , hue = 'Attrition', col = 'MaritalStatus')"
   ]
  },
  {
   "cell_type": "markdown",
   "metadata": {},
   "source": [
    "- **Here we see little difference between the number of companies worked against attrition rate.**\n",
    "- **We note that most healthcare employees have only worked 1 company prior to their current work.**"
   ]
  },
  {
   "cell_type": "code",
   "execution_count": 12,
   "metadata": {
    "execution": {
     "iopub.execute_input": "2022-08-28T11:52:06.323397Z",
     "iopub.status.busy": "2022-08-28T11:52:06.323064Z",
     "iopub.status.idle": "2022-08-28T11:52:06.328573Z",
     "shell.execute_reply": "2022-08-28T11:52:06.327331Z",
     "shell.execute_reply.started": "2022-08-28T11:52:06.323366Z"
    }
   },
   "outputs": [],
   "source": [
    "#sns.pairplot(data = bg_history_df,  y_vars = ['MaritalStatus','EducationField', 'Gender'], x_vars = ['DistanceFromHome', 'NumCompaniesWorked', 'Education'], hue = 'Attrition',kind = 'hist')\n"
   ]
  },
  {
   "cell_type": "markdown",
   "metadata": {},
   "source": [
    "# 2. Identifying Work Engagement based on Department and Job Role\n",
    "We identify employees' level of engagement based on\n",
    "- JobInvolvement\n",
    "- JobSatisfaction\n",
    "- EnvironmentSatisfaction\n",
    "- RelationshipSatisfaction\n",
    "- WorkLifeBalance\n",
    "- PerformanceRating\n",
    "- TrainingTimesLastYear\n",
    "- JobLevel\n",
    "- YearsSinceLastPromotion\n",
    "- YearsWithCurrManager\n"
   ]
  },
  {
   "cell_type": "code",
   "execution_count": 13,
   "metadata": {
    "execution": {
     "iopub.execute_input": "2022-08-28T11:52:06.330010Z",
     "iopub.status.busy": "2022-08-28T11:52:06.329645Z",
     "iopub.status.idle": "2022-08-28T11:52:06.377063Z",
     "shell.execute_reply": "2022-08-28T11:52:06.375898Z",
     "shell.execute_reply.started": "2022-08-28T11:52:06.329971Z"
    }
   },
   "outputs": [],
   "source": [
    "left = main_df[['Department', 'JobRole', 'Attrition']] #these are the indexes \n",
    "right = main_df[['JobLevel','JobInvolvement','JobSatisfaction',\n",
    "          'EnvironmentSatisfaction','RelationshipSatisfaction', \n",
    "          'WorkLifeBalance','PerformanceRating']].apply(lambda x: (x*2)) #convert rating of 5 to percentage\n",
    "wcond_df = left.join(right)\n",
    "round(wcond_df.describe(), 2)\n",
    "\n",
    "#'TrainingTimesLastYear','YearsSinceLastPromotion','YearsWithCurrManager',\n"
   ]
  },
  {
   "cell_type": "code",
   "execution_count": 14,
   "metadata": {
    "execution": {
     "iopub.execute_input": "2022-08-28T11:52:06.379082Z",
     "iopub.status.busy": "2022-08-28T11:52:06.378748Z",
     "iopub.status.idle": "2022-08-28T11:52:07.068573Z",
     "shell.execute_reply": "2022-08-28T11:52:07.067762Z",
     "shell.execute_reply.started": "2022-08-28T11:52:06.379052Z"
    }
   },
   "outputs": [],
   "source": [
    "#df = main_df[['Department', 'JobRole', 'JobSatisfaction']]\n",
    "#df.set_index('Department', inplace= True)\n",
    "piv = pd.pivot_table(data = wcond_df, index = ['JobRole', 'Department'])\n",
    "plt.figure(figsize=(15,10))\n",
    "plt.title('Heatmap of JobRole and Department against Ratings (scale of 1 to 10)')\n",
    "sns.heatmap(piv, annot=True, annot_kws={'size': 13})"
   ]
  },
  {
   "cell_type": "markdown",
   "metadata": {},
   "source": [
    "- **We can see that there is little difference in means of 'Environment, Relationship and Job Satisfaction' across all departments and roles**\n",
    "- **JobRoles of Nurses and Others are at a lower JobLevel than others.**"
   ]
  },
  {
   "cell_type": "code",
   "execution_count": 15,
   "metadata": {
    "execution": {
     "iopub.execute_input": "2022-08-28T11:52:07.070246Z",
     "iopub.status.busy": "2022-08-28T11:52:07.069910Z",
     "iopub.status.idle": "2022-08-28T11:52:07.352714Z",
     "shell.execute_reply": "2022-08-28T11:52:07.351705Z",
     "shell.execute_reply.started": "2022-08-28T11:52:07.070214Z"
    }
   },
   "outputs": [],
   "source": [
    "piv = pd.pivot_table(data = wcond_df, index = ['Attrition'])\n",
    "plt.figure(figsize=(10,6))\n",
    "plt.title('Heatmap of Attrition based on Ratings')\n",
    "display(sns.heatmap(piv, annot=True, annot_kws={'size': 13} ))"
   ]
  },
  {
   "cell_type": "markdown",
   "metadata": {},
   "source": [
    "- **Employees with attrition tend to have lower means (below average of 5)  for** \n",
    "1. JobLevel\n",
    "2. JobInvolvement\n",
    "3. EnvironmentSatisfaction\n",
    "4. JobSatisfaction\n",
    "5. RelationshipSatisfaction\n",
    "6. WorkLifeBalance"
   ]
  },
  {
   "cell_type": "markdown",
   "metadata": {},
   "source": []
  },
  {
   "cell_type": "markdown",
   "metadata": {},
   "source": [
    "# 3. Identifying Work compensation against Attrition"
   ]
  },
  {
   "cell_type": "code",
   "execution_count": 16,
   "metadata": {
    "execution": {
     "iopub.execute_input": "2022-08-28T11:52:07.354761Z",
     "iopub.status.busy": "2022-08-28T11:52:07.354178Z",
     "iopub.status.idle": "2022-08-28T11:52:07.388165Z",
     "shell.execute_reply": "2022-08-28T11:52:07.386999Z",
     "shell.execute_reply.started": "2022-08-28T11:52:07.354727Z"
    }
   },
   "outputs": [],
   "source": [
    "wcomp_df = main_df[['Attrition','Age', 'Gender','JobLevel',\n",
    "                   'MonthlyIncome','OverTime', 'PercentSalaryHike', 'Shift',\n",
    "                   'YearsAtCompany', 'YearsSinceLastPromotion']]\n",
    "wcomp_df.describe()\n",
    "\n"
   ]
  },
  {
   "cell_type": "code",
   "execution_count": 17,
   "metadata": {
    "execution": {
     "iopub.execute_input": "2022-08-28T11:52:07.390475Z",
     "iopub.status.busy": "2022-08-28T11:52:07.390041Z",
     "iopub.status.idle": "2022-08-28T11:52:07.587025Z",
     "shell.execute_reply": "2022-08-28T11:52:07.585887Z",
     "shell.execute_reply.started": "2022-08-28T11:52:07.390433Z"
    }
   },
   "outputs": [],
   "source": [
    "plt.figure(figsize=(8,8))\n",
    "plt.title('Histogram showing in percentage of total employees, the attrition of OT and non-OT employees')\n",
    "sns.histplot(data= wcomp_df, x= 'OverTime' , hue = 'Attrition', multiple = 'dodge'\n",
    "             , stat = 'percent', shrink=0.8)"
   ]
  },
  {
   "cell_type": "code",
   "execution_count": 18,
   "metadata": {
    "execution": {
     "iopub.execute_input": "2022-08-28T11:52:07.589392Z",
     "iopub.status.busy": "2022-08-28T11:52:07.588947Z",
     "iopub.status.idle": "2022-08-28T11:52:07.600376Z",
     "shell.execute_reply": "2022-08-28T11:52:07.599492Z",
     "shell.execute_reply.started": "2022-08-28T11:52:07.589339Z"
    }
   },
   "outputs": [],
   "source": [
    "ot_tot = (wcomp_df['OverTime'] == 'Yes').sum() #total amount of employees who do overtime\n",
    "ot_y = ((wcomp_df['OverTime'] == 'Yes') & (wcomp_df['Attrition'] == 'Yes')).sum() #total of those with attrition\n",
    "print('Percentage of overtime employee attrition\\n', round((ot_y/ot_tot*100), 3))\n",
    "\n",
    "not_tot = (wcomp_df['OverTime'] == 'No').sum() #total amount of employees who don't do overtime\n",
    "not_y = ((wcomp_df['OverTime'] == 'No') & (wcomp_df['Attrition'] == 'Yes')).sum() #total of those with attrition\n",
    "print('\\nPercentage of non-overtime employee attrition\\n', round((not_y/not_tot*100), 3))"
   ]
  },
  {
   "cell_type": "markdown",
   "metadata": {},
   "source": [
    "- **We see that there is a significantly higher percentage (29% against 5%) of OverTime employees leave the company.**"
   ]
  },
  {
   "cell_type": "code",
   "execution_count": 19,
   "metadata": {
    "execution": {
     "iopub.execute_input": "2022-08-28T11:52:07.602109Z",
     "iopub.status.busy": "2022-08-28T11:52:07.601781Z",
     "iopub.status.idle": "2022-08-28T11:52:07.860058Z",
     "shell.execute_reply": "2022-08-28T11:52:07.858907Z",
     "shell.execute_reply.started": "2022-08-28T11:52:07.602079Z"
    }
   },
   "outputs": [],
   "source": [
    "plt.figure(figsize=(8,8))\n",
    "sns.stripplot(data = wcomp_df, x = 'OverTime', y = 'MonthlyIncome', hue = 'Attrition', dodge = True)"
   ]
  },
  {
   "cell_type": "markdown",
   "metadata": {},
   "source": [
    "- **A further look at the OverTime employees show that lower MonthIncome also correlates with higher attrition**"
   ]
  },
  {
   "cell_type": "code",
   "execution_count": 21,
   "metadata": {
    "execution": {
     "iopub.execute_input": "2022-08-28T11:52:53.524458Z",
     "iopub.status.busy": "2022-08-28T11:52:53.524026Z",
     "iopub.status.idle": "2022-08-28T11:52:53.673775Z",
     "shell.execute_reply": "2022-08-28T11:52:53.672657Z",
     "shell.execute_reply.started": "2022-08-28T11:52:53.524419Z"
    }
   },
   "outputs": [],
   "source": [
    "#sns.jointplot(data = wcomp_df, x = 'PercentSalaryHike', y = 'MonthlyIncome', hue = 'Attrition')\n",
    "plt.figure(figsize=(8,8))\n",
    "sns.boxplot(data = wcomp_df, x = 'Attrition', y = 'PercentSalaryHike')"
   ]
  },
  {
   "cell_type": "markdown",
   "metadata": {},
   "source": [
    "- **We see that salary hikes have little impact on lowering the attrition of OverTime employees.**"
   ]
  },
  {
   "cell_type": "code",
   "execution_count": null,
   "metadata": {
    "execution": {
     "iopub.status.busy": "2022-08-28T11:52:07.930598Z",
     "iopub.status.idle": "2022-08-28T11:52:07.931041Z",
     "shell.execute_reply": "2022-08-28T11:52:07.930861Z",
     "shell.execute_reply.started": "2022-08-28T11:52:07.930841Z"
    }
   },
   "outputs": [],
   "source": [
    "plt.figure(figsize=(8,8))\n",
    "sns.stripplot(data = wcomp_df, x = 'Shift', y = 'Age', hue = 'Attrition', dodge = True)"
   ]
  },
  {
   "cell_type": "markdown",
   "metadata": {},
   "source": [
    "- **Mean for shifts is 0.8. Most employees either have 1 or no shift work, there is little effect of shifts on attrition.**"
   ]
  },
  {
   "cell_type": "markdown",
   "metadata": {},
   "source": [
    "# Conclusions of EDA:\n",
    "Factors that show a positive correlation with attrition:\n",
    "1. Marital Status - single\n",
    "2. Age - 35 and below\n",
    "3. DistanceFromHome - for Married and Divorced employees\n",
    "4. Ratings below average (2.5 and below) for\n",
    "- JobInvolvement\n",
    "- EnvironmentSatisfaction\n",
    "- JobSatisfaction\n",
    "5. OverTime employees\n",
    "6. OverTime employees with monthly income up till 7500\n",
    "\n",
    "Salary Hikes may not be a useful way to prevent attrition in employees."
   ]
  },
  {
   "cell_type": "markdown",
   "metadata": {},
   "source": [
    "#  **Part 2 Predictive Analysis**\n",
    "\n",
    "In this section, we will use the significant factors to fit a decision tree model in predicting employee attrition.\n"
   ]
  },
  {
   "cell_type": "markdown",
   "metadata": {},
   "source": [
    "# 1. Choosing the columns and splitting the data\n",
    "\n",
    "There are two categorical data, hence we will use get_dummies to replace the categories."
   ]
  },
  {
   "cell_type": "code",
   "execution_count": 61,
   "metadata": {
    "execution": {
     "iopub.execute_input": "2022-08-28T13:29:26.932812Z",
     "iopub.status.busy": "2022-08-28T13:29:26.932366Z",
     "iopub.status.idle": "2022-08-28T13:29:26.956567Z",
     "shell.execute_reply": "2022-08-28T13:29:26.955412Z",
     "shell.execute_reply.started": "2022-08-28T13:29:26.932774Z"
    }
   },
   "outputs": [],
   "source": [
    "sig_factors = ['OverTime','Age','DistanceFromHome','MaritalStatus', 'MonthlyIncome', \n",
    "               'JobInvolvement','EnvironmentSatisfaction','JobSatisfaction',]\n",
    "\n",
    "test_df = main_df[sig_factors]\n",
    "one_hot_data = pd.get_dummies(test_df, columns =['OverTime'], drop_first = True) \n",
    "#this will remove colinearity\n",
    "\n",
    "one_hot_data = pd.get_dummies(one_hot_data, columns =['MaritalStatus']) \n",
    "#there are three categories here so will not drop any columns from the dummies\n",
    "\n",
    "target = main_df['Attrition']\n",
    "\n",
    "one_hot_data.head()"
   ]
  },
  {
   "cell_type": "markdown",
   "metadata": {},
   "source": [
    "# **2. Splitting the data for training and testing.**\n",
    "We will use a training size of 80%. We will try a few max_depths to find the best model accuracy and precision."
   ]
  },
  {
   "cell_type": "code",
   "execution_count": 121,
   "metadata": {
    "execution": {
     "iopub.execute_input": "2022-08-28T14:04:37.172284Z",
     "iopub.status.busy": "2022-08-28T14:04:37.171140Z",
     "iopub.status.idle": "2022-08-28T14:04:37.254346Z",
     "shell.execute_reply": "2022-08-28T14:04:37.253026Z",
     "shell.execute_reply.started": "2022-08-28T14:04:37.172230Z"
    }
   },
   "outputs": [],
   "source": [
    "from sklearn.model_selection import train_test_split\n",
    "from sklearn.tree import DecisionTreeClassifier\n",
    "from sklearn import tree\n",
    "from sklearn.metrics import accuracy_score\n",
    "from sklearn.metrics import confusion_matrix\n",
    "\n",
    "X = one_hot_data\n",
    "y = target\n",
    "X_train, X_test, y_train, y_test = train_test_split(X, y, random_state = 1, train_size = 0.8)\n",
    "\n",
    "depths = [3,4,6,8,10,12,20]\n",
    "\n",
    "for d in depths:\n",
    "    model = DecisionTreeClassifier(max_depth = d, random_state = 1)\n",
    "    model.fit(X_train, y_train)\n",
    "    print('Max depth of tree is', model.tree_.max_depth)\n",
    "\n",
    "    y_predict = model.predict(X_test)\n",
    "    score = accuracy_score(y_test, y_predict)\n",
    "    print('Model accuracy: {0:0.4f}'.format(score))\n",
    "    \n",
    "    cm = confusion_matrix(y_test, y_predict)\n",
    "    TP = cm[1][1]\n",
    "    FP = cm[0][1]\n",
    "    ps = TP/(TP+FP)\n",
    "    print('Precision score:{0:0.4f}'.format(ps))\n",
    "    print('Confusion matrix:\\n', cm)\n",
    "    print()"
   ]
  },
  {
   "cell_type": "markdown",
   "metadata": {},
   "source": [
    "# **Model Finalisation**\n",
    "**The algorithm favours a max depth of 14, however we see the highest accuracy and precision at max_depth of just 3.**\n",
    "**We will go ahead with 3.**"
   ]
  },
  {
   "cell_type": "code",
   "execution_count": 123,
   "metadata": {
    "execution": {
     "iopub.execute_input": "2022-08-28T14:06:47.289280Z",
     "iopub.status.busy": "2022-08-28T14:06:47.288431Z",
     "iopub.status.idle": "2022-08-28T14:06:47.310041Z",
     "shell.execute_reply": "2022-08-28T14:06:47.309172Z",
     "shell.execute_reply.started": "2022-08-28T14:06:47.289228Z"
    }
   },
   "outputs": [],
   "source": [
    "model = DecisionTreeClassifier(max_depth = 3, random_state = 1)\n",
    "model.fit(X_train, y_train)\n",
    "print('Max depth of tree is', model.tree_.max_depth)\n",
    "\n",
    "y_predict = model.predict(X_test)\n",
    "score = accuracy_score(y_test, y_predict)\n",
    "print('Model accuracy: {0:0.4f}'.format(score))\n",
    "cm = confusion_matrix(y_test, y_predict)\n",
    "TP = cm[1][1]\n",
    "FP = cm[0][1]\n",
    "ps = TP/(TP+FP)\n",
    "print('Precision score:{0:0.4f}'.format(ps))\n",
    "print('Confusion matrix:\\n', cm)"
   ]
  },
  {
   "cell_type": "markdown",
   "metadata": {},
   "source": [
    "**We'll save the tree for visualization on the model workings.**"
   ]
  },
  {
   "cell_type": "code",
   "execution_count": 124,
   "metadata": {
    "execution": {
     "iopub.execute_input": "2022-08-28T14:07:11.619872Z",
     "iopub.status.busy": "2022-08-28T14:07:11.619472Z",
     "iopub.status.idle": "2022-08-28T14:07:11.822070Z",
     "shell.execute_reply": "2022-08-28T14:07:11.820951Z",
     "shell.execute_reply.started": "2022-08-28T14:07:11.619837Z"
    }
   },
   "outputs": [],
   "source": [
    "from sklearn.metrics import ConfusionMatrixDisplay, precision_score\n",
    "cm = confusion_matrix(y_test, y_predict)\n",
    "\n",
    "disp = ConfusionMatrixDisplay(confusion_matrix = cm)\n",
    "disp.plot()\n",
    "plt.show()\n",
    "\n",
    "#To learn how to calculate precision_score - not sure about how to get y_true yet\n",
    "#y_true = ????\n",
    "#p_score = precision_score(y_true, y_pred)\n",
    "#print('Precision score: {0:0.4f}'.format(p_score))\n"
   ]
  },
  {
   "cell_type": "code",
   "execution_count": 126,
   "metadata": {
    "execution": {
     "iopub.execute_input": "2022-08-28T14:07:17.917773Z",
     "iopub.status.busy": "2022-08-28T14:07:17.917313Z",
     "iopub.status.idle": "2022-08-28T14:07:17.969951Z",
     "shell.execute_reply": "2022-08-28T14:07:17.968521Z",
     "shell.execute_reply.started": "2022-08-28T14:07:17.917728Z"
    }
   },
   "outputs": [],
   "source": [
    "import graphviz \n",
    "\n",
    "dot_data = tree.export_graphviz(model, out_file=None) \n",
    "graph = graphviz.Source(dot_data) \n",
    "graph.render(\"tree\") "
   ]
  },
  {
   "cell_type": "markdown",
   "metadata": {},
   "source": []
  }
 ],
 "metadata": {
  "kernelspec": {
   "display_name": "Python 3 (ipykernel)",
   "language": "python",
   "name": "python3"
  },
  "language_info": {
   "codemirror_mode": {
    "name": "ipython",
    "version": 3
   },
   "file_extension": ".py",
   "mimetype": "text/x-python",
   "name": "python",
   "nbconvert_exporter": "python",
   "pygments_lexer": "ipython3",
   "version": "3.9.12"
  }
 },
 "nbformat": 4,
 "nbformat_minor": 4
}
