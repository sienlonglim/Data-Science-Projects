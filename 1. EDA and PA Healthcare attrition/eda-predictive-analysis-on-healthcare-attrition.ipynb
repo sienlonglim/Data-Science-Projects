{
 "cells": [
  {
   "cell_type": "code",
   "execution_count": 1,
   "metadata": {
    "_cell_guid": "b1076dfc-b9ad-4769-8c92-a6c4dae69d19",
    "_uuid": "8f2839f25d086af736a60e9eeb907d3b93b6e0e5",
    "execution": {
     "iopub.execute_input": "2022-08-28T11:52:02.115317Z",
     "iopub.status.busy": "2022-08-28T11:52:02.114783Z",
     "iopub.status.idle": "2022-08-28T11:52:03.081689Z",
     "shell.execute_reply": "2022-08-28T11:52:03.080463Z",
     "shell.execute_reply.started": "2022-08-28T11:52:02.115267Z"
    }
   },
   "outputs": [
    {
     "name": "stdout",
     "output_type": "stream",
     "text": [
      "Setup complete\n"
     ]
    }
   ],
   "source": [
    "import numpy as np \n",
    "import pandas as pd \n",
    "import seaborn as sns\n",
    "import matplotlib.pyplot as plt\n",
    "%matplotlib inline\n",
    "        \n",
    "print('Setup complete')"
   ]
  },
  {
   "cell_type": "markdown",
   "metadata": {},
   "source": [
    "#  **Healthcare Employee Attrition Data**\n",
    "#  **Part 1 - EDA**"
   ]
  },
  {
   "cell_type": "markdown",
   "metadata": {},
   "source": [
    " # 1. Reading and cleaning the data\n",
    " - We first reading the csv file (indexed to EmployeeID) and check for the types of columns present.\n",
    " - Ensure that there are no null values."
   ]
  },
  {
   "cell_type": "code",
   "execution_count": 2,
   "metadata": {
    "execution": {
     "iopub.execute_input": "2022-08-28T11:52:03.085027Z",
     "iopub.status.busy": "2022-08-28T11:52:03.083791Z",
     "iopub.status.idle": "2022-08-28T11:52:03.153028Z",
     "shell.execute_reply": "2022-08-28T11:52:03.152019Z",
     "shell.execute_reply.started": "2022-08-28T11:52:03.084981Z"
    }
   },
   "outputs": [
    {
     "data": {
      "text/html": [
       "<div>\n",
       "<style scoped>\n",
       "    .dataframe tbody tr th:only-of-type {\n",
       "        vertical-align: middle;\n",
       "    }\n",
       "\n",
       "    .dataframe tbody tr th {\n",
       "        vertical-align: top;\n",
       "    }\n",
       "\n",
       "    .dataframe thead th {\n",
       "        text-align: right;\n",
       "    }\n",
       "</style>\n",
       "<table border=\"1\" class=\"dataframe\">\n",
       "  <thead>\n",
       "    <tr style=\"text-align: right;\">\n",
       "      <th></th>\n",
       "      <th>Age</th>\n",
       "      <th>Attrition</th>\n",
       "      <th>BusinessTravel</th>\n",
       "      <th>DailyRate</th>\n",
       "      <th>Department</th>\n",
       "      <th>DistanceFromHome</th>\n",
       "      <th>Education</th>\n",
       "      <th>EducationField</th>\n",
       "      <th>EmployeeCount</th>\n",
       "      <th>EnvironmentSatisfaction</th>\n",
       "      <th>...</th>\n",
       "      <th>RelationshipSatisfaction</th>\n",
       "      <th>StandardHours</th>\n",
       "      <th>Shift</th>\n",
       "      <th>TotalWorkingYears</th>\n",
       "      <th>TrainingTimesLastYear</th>\n",
       "      <th>WorkLifeBalance</th>\n",
       "      <th>YearsAtCompany</th>\n",
       "      <th>YearsInCurrentRole</th>\n",
       "      <th>YearsSinceLastPromotion</th>\n",
       "      <th>YearsWithCurrManager</th>\n",
       "    </tr>\n",
       "    <tr>\n",
       "      <th>EmployeeID</th>\n",
       "      <th></th>\n",
       "      <th></th>\n",
       "      <th></th>\n",
       "      <th></th>\n",
       "      <th></th>\n",
       "      <th></th>\n",
       "      <th></th>\n",
       "      <th></th>\n",
       "      <th></th>\n",
       "      <th></th>\n",
       "      <th></th>\n",
       "      <th></th>\n",
       "      <th></th>\n",
       "      <th></th>\n",
       "      <th></th>\n",
       "      <th></th>\n",
       "      <th></th>\n",
       "      <th></th>\n",
       "      <th></th>\n",
       "      <th></th>\n",
       "      <th></th>\n",
       "    </tr>\n",
       "  </thead>\n",
       "  <tbody>\n",
       "    <tr>\n",
       "      <th>1313919</th>\n",
       "      <td>41</td>\n",
       "      <td>No</td>\n",
       "      <td>Travel_Rarely</td>\n",
       "      <td>1102</td>\n",
       "      <td>Cardiology</td>\n",
       "      <td>1</td>\n",
       "      <td>2</td>\n",
       "      <td>Life Sciences</td>\n",
       "      <td>1</td>\n",
       "      <td>2</td>\n",
       "      <td>...</td>\n",
       "      <td>1</td>\n",
       "      <td>80</td>\n",
       "      <td>0</td>\n",
       "      <td>8</td>\n",
       "      <td>0</td>\n",
       "      <td>1</td>\n",
       "      <td>6</td>\n",
       "      <td>4</td>\n",
       "      <td>0</td>\n",
       "      <td>5</td>\n",
       "    </tr>\n",
       "    <tr>\n",
       "      <th>1200302</th>\n",
       "      <td>49</td>\n",
       "      <td>No</td>\n",
       "      <td>Travel_Frequently</td>\n",
       "      <td>279</td>\n",
       "      <td>Maternity</td>\n",
       "      <td>8</td>\n",
       "      <td>1</td>\n",
       "      <td>Life Sciences</td>\n",
       "      <td>1</td>\n",
       "      <td>3</td>\n",
       "      <td>...</td>\n",
       "      <td>4</td>\n",
       "      <td>80</td>\n",
       "      <td>1</td>\n",
       "      <td>10</td>\n",
       "      <td>3</td>\n",
       "      <td>3</td>\n",
       "      <td>10</td>\n",
       "      <td>7</td>\n",
       "      <td>1</td>\n",
       "      <td>7</td>\n",
       "    </tr>\n",
       "    <tr>\n",
       "      <th>1060315</th>\n",
       "      <td>37</td>\n",
       "      <td>Yes</td>\n",
       "      <td>Travel_Rarely</td>\n",
       "      <td>1373</td>\n",
       "      <td>Maternity</td>\n",
       "      <td>2</td>\n",
       "      <td>2</td>\n",
       "      <td>Other</td>\n",
       "      <td>1</td>\n",
       "      <td>4</td>\n",
       "      <td>...</td>\n",
       "      <td>2</td>\n",
       "      <td>80</td>\n",
       "      <td>0</td>\n",
       "      <td>7</td>\n",
       "      <td>3</td>\n",
       "      <td>3</td>\n",
       "      <td>0</td>\n",
       "      <td>0</td>\n",
       "      <td>0</td>\n",
       "      <td>0</td>\n",
       "    </tr>\n",
       "    <tr>\n",
       "      <th>1272912</th>\n",
       "      <td>33</td>\n",
       "      <td>No</td>\n",
       "      <td>Travel_Frequently</td>\n",
       "      <td>1392</td>\n",
       "      <td>Maternity</td>\n",
       "      <td>3</td>\n",
       "      <td>4</td>\n",
       "      <td>Life Sciences</td>\n",
       "      <td>1</td>\n",
       "      <td>4</td>\n",
       "      <td>...</td>\n",
       "      <td>3</td>\n",
       "      <td>80</td>\n",
       "      <td>0</td>\n",
       "      <td>8</td>\n",
       "      <td>3</td>\n",
       "      <td>3</td>\n",
       "      <td>8</td>\n",
       "      <td>7</td>\n",
       "      <td>3</td>\n",
       "      <td>0</td>\n",
       "    </tr>\n",
       "    <tr>\n",
       "      <th>1414939</th>\n",
       "      <td>27</td>\n",
       "      <td>No</td>\n",
       "      <td>Travel_Rarely</td>\n",
       "      <td>591</td>\n",
       "      <td>Maternity</td>\n",
       "      <td>2</td>\n",
       "      <td>1</td>\n",
       "      <td>Medical</td>\n",
       "      <td>1</td>\n",
       "      <td>1</td>\n",
       "      <td>...</td>\n",
       "      <td>4</td>\n",
       "      <td>80</td>\n",
       "      <td>1</td>\n",
       "      <td>6</td>\n",
       "      <td>3</td>\n",
       "      <td>3</td>\n",
       "      <td>2</td>\n",
       "      <td>2</td>\n",
       "      <td>2</td>\n",
       "      <td>2</td>\n",
       "    </tr>\n",
       "  </tbody>\n",
       "</table>\n",
       "<p>5 rows × 34 columns</p>\n",
       "</div>"
      ],
      "text/plain": [
       "            Age Attrition     BusinessTravel  DailyRate  Department  \\\n",
       "EmployeeID                                                            \n",
       "1313919      41        No      Travel_Rarely       1102  Cardiology   \n",
       "1200302      49        No  Travel_Frequently        279   Maternity   \n",
       "1060315      37       Yes      Travel_Rarely       1373   Maternity   \n",
       "1272912      33        No  Travel_Frequently       1392   Maternity   \n",
       "1414939      27        No      Travel_Rarely        591   Maternity   \n",
       "\n",
       "            DistanceFromHome  Education EducationField  EmployeeCount  \\\n",
       "EmployeeID                                                              \n",
       "1313919                    1          2  Life Sciences              1   \n",
       "1200302                    8          1  Life Sciences              1   \n",
       "1060315                    2          2          Other              1   \n",
       "1272912                    3          4  Life Sciences              1   \n",
       "1414939                    2          1        Medical              1   \n",
       "\n",
       "            EnvironmentSatisfaction  ... RelationshipSatisfaction  \\\n",
       "EmployeeID                           ...                            \n",
       "1313919                           2  ...                        1   \n",
       "1200302                           3  ...                        4   \n",
       "1060315                           4  ...                        2   \n",
       "1272912                           4  ...                        3   \n",
       "1414939                           1  ...                        4   \n",
       "\n",
       "            StandardHours  Shift  TotalWorkingYears TrainingTimesLastYear  \\\n",
       "EmployeeID                                                                  \n",
       "1313919                80      0                  8                     0   \n",
       "1200302                80      1                 10                     3   \n",
       "1060315                80      0                  7                     3   \n",
       "1272912                80      0                  8                     3   \n",
       "1414939                80      1                  6                     3   \n",
       "\n",
       "            WorkLifeBalance YearsAtCompany  YearsInCurrentRole  \\\n",
       "EmployeeID                                                       \n",
       "1313919                   1              6                   4   \n",
       "1200302                   3             10                   7   \n",
       "1060315                   3              0                   0   \n",
       "1272912                   3              8                   7   \n",
       "1414939                   3              2                   2   \n",
       "\n",
       "            YearsSinceLastPromotion  YearsWithCurrManager  \n",
       "EmployeeID                                                 \n",
       "1313919                           0                     5  \n",
       "1200302                           1                     7  \n",
       "1060315                           0                     0  \n",
       "1272912                           3                     0  \n",
       "1414939                           2                     2  \n",
       "\n",
       "[5 rows x 34 columns]"
      ]
     },
     "metadata": {},
     "output_type": "display_data"
    },
    {
     "data": {
      "text/plain": [
       "Index(['Age', 'Attrition', 'BusinessTravel', 'DailyRate', 'Department',\n",
       "       'DistanceFromHome', 'Education', 'EducationField', 'EmployeeCount',\n",
       "       'EnvironmentSatisfaction', 'Gender', 'HourlyRate', 'JobInvolvement',\n",
       "       'JobLevel', 'JobRole', 'JobSatisfaction', 'MaritalStatus',\n",
       "       'MonthlyIncome', 'MonthlyRate', 'NumCompaniesWorked', 'Over18',\n",
       "       'OverTime', 'PercentSalaryHike', 'PerformanceRating',\n",
       "       'RelationshipSatisfaction', 'StandardHours', 'Shift',\n",
       "       'TotalWorkingYears', 'TrainingTimesLastYear', 'WorkLifeBalance',\n",
       "       'YearsAtCompany', 'YearsInCurrentRole', 'YearsSinceLastPromotion',\n",
       "       'YearsWithCurrManager'],\n",
       "      dtype='object')"
      ]
     },
     "metadata": {},
     "output_type": "display_data"
    }
   ],
   "source": [
    "main_df = pd.read_csv('watson_healthcare_modified.csv', index_col = 'EmployeeID')\n",
    "display(main_df.head(5))\n",
    "cols = main_df.columns\n",
    "display(cols)"
   ]
  },
  {
   "cell_type": "code",
   "execution_count": 3,
   "metadata": {
    "execution": {
     "iopub.execute_input": "2022-08-28T11:52:03.155257Z",
     "iopub.status.busy": "2022-08-28T11:52:03.154503Z",
     "iopub.status.idle": "2022-08-28T11:52:03.168285Z",
     "shell.execute_reply": "2022-08-28T11:52:03.166803Z",
     "shell.execute_reply.started": "2022-08-28T11:52:03.155208Z"
    }
   },
   "outputs": [
    {
     "data": {
      "text/plain": [
       "Age                         0\n",
       "Attrition                   0\n",
       "BusinessTravel              0\n",
       "DailyRate                   0\n",
       "Department                  0\n",
       "DistanceFromHome            0\n",
       "Education                   0\n",
       "EducationField              0\n",
       "EmployeeCount               0\n",
       "EnvironmentSatisfaction     0\n",
       "Gender                      0\n",
       "HourlyRate                  0\n",
       "JobInvolvement              0\n",
       "JobLevel                    0\n",
       "JobRole                     0\n",
       "JobSatisfaction             0\n",
       "MaritalStatus               0\n",
       "MonthlyIncome               0\n",
       "MonthlyRate                 0\n",
       "NumCompaniesWorked          0\n",
       "Over18                      0\n",
       "OverTime                    0\n",
       "PercentSalaryHike           0\n",
       "PerformanceRating           0\n",
       "RelationshipSatisfaction    0\n",
       "StandardHours               0\n",
       "Shift                       0\n",
       "TotalWorkingYears           0\n",
       "TrainingTimesLastYear       0\n",
       "WorkLifeBalance             0\n",
       "YearsAtCompany              0\n",
       "YearsInCurrentRole          0\n",
       "YearsSinceLastPromotion     0\n",
       "YearsWithCurrManager        0\n",
       "dtype: int64"
      ]
     },
     "execution_count": 3,
     "metadata": {},
     "output_type": "execute_result"
    }
   ],
   "source": [
    "main_df.isnull().sum()"
   ]
  },
  {
   "cell_type": "markdown",
   "metadata": {},
   "source": [
    "- Next lets check for the uniqueness in values for each column."
   ]
  },
  {
   "cell_type": "code",
   "execution_count": 4,
   "metadata": {
    "execution": {
     "iopub.execute_input": "2022-08-28T11:52:03.172078Z",
     "iopub.status.busy": "2022-08-28T11:52:03.171247Z",
     "iopub.status.idle": "2022-08-28T11:52:03.298071Z",
     "shell.execute_reply": "2022-08-28T11:52:03.296681Z",
     "shell.execute_reply.started": "2022-08-28T11:52:03.172031Z"
    }
   },
   "outputs": [
    {
     "name": "stdout",
     "output_type": "stream",
     "text": [
      "Unique values of Age\n"
     ]
    },
    {
     "data": {
      "text/plain": [
       "array([41, 49, 37, 33, 27, 32, 59, 30, 38, 36, 35, 29, 31, 34, 28, 22, 53,\n",
       "       24, 21, 42, 44, 46, 39, 43, 50, 26, 48, 55, 45, 56, 23, 51, 40, 54,\n",
       "       58, 20, 25, 19, 57, 52, 47, 18, 60], dtype=int64)"
      ]
     },
     "metadata": {},
     "output_type": "display_data"
    },
    {
     "name": "stdout",
     "output_type": "stream",
     "text": [
      "\n",
      "Unique values of Attrition\n"
     ]
    },
    {
     "data": {
      "text/plain": [
       "array(['No', 'Yes'], dtype=object)"
      ]
     },
     "metadata": {},
     "output_type": "display_data"
    },
    {
     "name": "stdout",
     "output_type": "stream",
     "text": [
      "\n",
      "Unique values of BusinessTravel\n"
     ]
    },
    {
     "data": {
      "text/plain": [
       "array(['Travel_Rarely', 'Travel_Frequently', 'Non-Travel'], dtype=object)"
      ]
     },
     "metadata": {},
     "output_type": "display_data"
    },
    {
     "name": "stdout",
     "output_type": "stream",
     "text": [
      "\n",
      "Unique values of DailyRate\n"
     ]
    },
    {
     "data": {
      "text/plain": [
       "array([1102,  279, 1373, 1392,  591, 1005, 1324, 1358,  216, 1299,  809,\n",
       "        153,  670, 1346,  103, 1389,  334, 1123, 1219,  371,  673, 1218,\n",
       "        419,  391,  699, 1282, 1125,  691,  477,  705,  924, 1459,  125,\n",
       "        895,  813, 1273,  869,  890,  852, 1141,  464, 1240, 1357,  994,\n",
       "        721, 1360, 1065,  408, 1211, 1229,  626, 1434, 1488, 1097, 1443,\n",
       "        515,  853, 1142,  655, 1115,  427,  653,  989, 1435, 1223,  836,\n",
       "       1195, 1339,  664,  318, 1225, 1328, 1082,  548,  132,  746,  776,\n",
       "        193,  397,  945, 1214,  111,  573, 1153, 1400,  541,  432,  288,\n",
       "        669,  530,  632, 1334,  638, 1093, 1217, 1353,  120,  682,  489,\n",
       "        807,  827,  871,  665, 1040, 1420,  240, 1280,  534, 1456,  658,\n",
       "        142, 1127, 1031, 1189, 1354, 1467,  922,  394, 1312,  750,  441,\n",
       "        684,  249,  841,  147,  528,  594,  470,  957,  542,  802, 1355,\n",
       "       1150, 1329,  959, 1033, 1316,  364,  438,  689,  201, 1427,  857,\n",
       "        933, 1181, 1395,  662, 1436,  194,  967, 1496, 1169, 1145,  630,\n",
       "        303, 1256,  440, 1450, 1452,  465,  702, 1157,  602, 1480, 1268,\n",
       "        713,  134,  526, 1380,  140,  629, 1356,  328, 1084,  931,  692,\n",
       "       1069,  313,  894,  556, 1344,  290,  138,  926, 1261,  472, 1002,\n",
       "        878,  905, 1180,  121, 1136,  635, 1151,  644, 1045,  829, 1242,\n",
       "       1469,  896,  992, 1052, 1147, 1396,  663,  119,  979,  319, 1413,\n",
       "        944, 1323,  532,  818,  854, 1034,  771, 1401, 1431,  976, 1411,\n",
       "       1300,  252, 1327,  832, 1017, 1199,  504,  505,  916, 1247,  685,\n",
       "        269, 1416,  833,  307, 1311,  128,  488,  529, 1210, 1463,  675,\n",
       "       1385, 1403,  452,  666, 1158,  228,  996,  728, 1315,  322, 1479,\n",
       "        797, 1070,  442,  496, 1372,  920,  688, 1449, 1117,  636,  506,\n",
       "        444,  950,  889,  555,  230, 1232,  566, 1302,  812, 1476,  218,\n",
       "       1132, 1105,  906,  849,  390,  106, 1249,  192,  553,  117,  185,\n",
       "       1091,  723, 1220,  588, 1377, 1018, 1275,  798,  672, 1162,  508,\n",
       "       1482,  559,  210,  928, 1001,  549, 1124,  738,  570, 1130, 1192,\n",
       "        343,  144, 1296, 1309,  483,  810,  544, 1062, 1319,  641, 1332,\n",
       "        756,  845,  593, 1171,  350,  921, 1144,  143, 1046,  575,  156,\n",
       "       1283,  755,  304, 1178,  329, 1362, 1371,  202,  253,  164, 1107,\n",
       "        759, 1305,  982,  821, 1381,  480, 1473,  891, 1063,  645, 1490,\n",
       "        317,  422, 1485, 1368, 1448,  296, 1398, 1349,  986, 1099, 1116,\n",
       "       1499,  983, 1009, 1303, 1274, 1277,  587,  413, 1276,  988, 1474,\n",
       "        163,  267,  619,  302,  443,  828,  561,  426,  232, 1306, 1094,\n",
       "        509,  775,  195,  258,  471,  799,  956,  535, 1495,  446, 1245,\n",
       "        703,  823, 1246,  622, 1287,  448,  254, 1365,  538,  525,  558,\n",
       "        782,  362, 1236, 1112,  204, 1343,  604, 1216,  646,  160,  238,\n",
       "       1397,  306,  991,  482, 1176,  913, 1076,  727,  885,  243,  806,\n",
       "        817, 1410, 1207, 1442,  693,  929,  562,  608,  580,  970, 1179,\n",
       "        294,  314,  316,  654,  168,  381,  217,  501,  650,  141,  804,\n",
       "        975, 1090,  346,  430,  268,  167,  621,  527,  883,  954,  310,\n",
       "        719,  725,  715,  657, 1146,  182,  376,  571,  384,  791, 1111,\n",
       "       1243, 1092, 1325,  805,  213,  118,  676, 1252,  286, 1258,  932,\n",
       "       1041,  859,  720,  946, 1184,  436,  589,  760,  887, 1318,  625,\n",
       "        180,  586, 1012,  661,  930,  342, 1230, 1271, 1278,  607,  130,\n",
       "        300,  583, 1418, 1269,  379,  395, 1265, 1222,  341,  868, 1231,\n",
       "        102,  881, 1383, 1075,  374, 1086,  781,  177,  500, 1425, 1454,\n",
       "        617, 1085,  995, 1122,  618,  546,  462, 1198, 1272,  154, 1137,\n",
       "       1188,  188, 1333,  867,  263,  938,  129,  616,  498, 1404, 1053,\n",
       "        289, 1376,  231,  152,  882,  903, 1379,  335,  722,  461,  974,\n",
       "       1126,  840, 1134,  248,  955,  939, 1391, 1206,  287, 1441,  109,\n",
       "       1066,  277, 1055,  265,  135,  247, 1035,  266,  145, 1038, 1234,\n",
       "       1109, 1089,  788,  124,  660, 1186, 1464,  796,  415,  769, 1003,\n",
       "       1366,  330, 1492, 1204,  309, 1330,  469,  697, 1262, 1050,  770,\n",
       "        406,  203, 1308,  984,  439,  793, 1451, 1182,  174,  490,  718,\n",
       "        433,  773,  603,  874,  367,  199,  481,  647, 1384,  902,  819,\n",
       "        862, 1457,  977,  942, 1402, 1421, 1361,  917,  200,  150,  179,\n",
       "        696,  116,  363,  107, 1465,  458, 1212, 1103,  966, 1010,  326,\n",
       "       1098,  969, 1167,  694, 1320,  536,  373,  599,  251,  131,  237,\n",
       "       1429,  648,  735,  531,  429,  968,  879,  640,  412,  848,  360,\n",
       "       1138,  325, 1322,  299, 1030,  634,  524,  256, 1060,  935,  495,\n",
       "        282,  206,  943,  523,  507,  601,  855, 1291, 1405, 1369,  999,\n",
       "       1202,  285,  404,  736, 1498, 1200, 1439,  499,  205,  683, 1462,\n",
       "        949,  652,  332, 1475,  337,  971, 1174,  667,  560,  172,  383,\n",
       "       1255,  359,  401,  377,  592, 1445, 1221,  866,  981,  447, 1326,\n",
       "        748,  990,  405,  115,  790,  830, 1193, 1423,  467,  271,  410,\n",
       "       1083,  516,  224,  136, 1029,  333, 1440,  674, 1342,  898,  824,\n",
       "        492,  598,  740,  888, 1288,  104, 1108,  479, 1351,  474,  437,\n",
       "        884, 1370,  264, 1059,  563,  457, 1313,  241, 1015,  336, 1387,\n",
       "        170,  208,  671,  711,  737, 1470,  365,  763,  567,  486,  772,\n",
       "        301,  311,  584,  880,  392,  148,  708, 1259,  786,  370,  678,\n",
       "        146,  581,  918, 1238,  585,  741,  552,  369,  717,  543,  964,\n",
       "        792,  611,  176,  897,  600, 1054,  428,  181,  211, 1079,  590,\n",
       "        305,  953,  478, 1375,  244,  511, 1294,  196,  734, 1239, 1253,\n",
       "       1128, 1336,  234,  766,  261, 1194,  431,  572, 1422, 1297,  574,\n",
       "        355,  207,  706,  280,  726,  414,  352, 1224,  459, 1254, 1131,\n",
       "        835, 1172, 1266,  783,  219, 1213, 1096, 1251, 1394,  605, 1064,\n",
       "       1337,  937,  157,  754, 1168,  155, 1444,  189,  911, 1321, 1154,\n",
       "        557,  642,  801,  161, 1382, 1037,  105,  582,  704,  345, 1120,\n",
       "       1378,  468,  613, 1023,  628,  466], dtype=int64)"
      ]
     },
     "metadata": {},
     "output_type": "display_data"
    },
    {
     "name": "stdout",
     "output_type": "stream",
     "text": [
      "\n",
      "Unique values of Department\n"
     ]
    },
    {
     "data": {
      "text/plain": [
       "array(['Cardiology', 'Maternity', 'Neurology'], dtype=object)"
      ]
     },
     "metadata": {},
     "output_type": "display_data"
    },
    {
     "name": "stdout",
     "output_type": "stream",
     "text": [
      "\n",
      "Unique values of DistanceFromHome\n"
     ]
    },
    {
     "data": {
      "text/plain": [
       "array([ 1,  8,  2,  3, 24, 23, 27, 16, 15, 26, 19, 21,  5, 11,  9,  7,  6,\n",
       "       10,  4, 25, 12, 18, 29, 22, 14, 20, 28, 17, 13], dtype=int64)"
      ]
     },
     "metadata": {},
     "output_type": "display_data"
    },
    {
     "name": "stdout",
     "output_type": "stream",
     "text": [
      "\n",
      "Unique values of Education\n"
     ]
    },
    {
     "data": {
      "text/plain": [
       "array([2, 1, 4, 3, 5], dtype=int64)"
      ]
     },
     "metadata": {},
     "output_type": "display_data"
    },
    {
     "name": "stdout",
     "output_type": "stream",
     "text": [
      "\n",
      "Unique values of EducationField\n"
     ]
    },
    {
     "data": {
      "text/plain": [
       "array(['Life Sciences', 'Other', 'Medical', 'Marketing',\n",
       "       'Technical Degree', 'Human Resources'], dtype=object)"
      ]
     },
     "metadata": {},
     "output_type": "display_data"
    },
    {
     "name": "stdout",
     "output_type": "stream",
     "text": [
      "\n",
      "Unique values of EmployeeCount\n"
     ]
    },
    {
     "data": {
      "text/plain": [
       "array([1], dtype=int64)"
      ]
     },
     "metadata": {},
     "output_type": "display_data"
    },
    {
     "name": "stdout",
     "output_type": "stream",
     "text": [
      "\n",
      "Unique values of EnvironmentSatisfaction\n"
     ]
    },
    {
     "data": {
      "text/plain": [
       "array([2, 3, 4, 1], dtype=int64)"
      ]
     },
     "metadata": {},
     "output_type": "display_data"
    },
    {
     "name": "stdout",
     "output_type": "stream",
     "text": [
      "\n",
      "Unique values of Gender\n"
     ]
    },
    {
     "data": {
      "text/plain": [
       "array(['Female', 'Male'], dtype=object)"
      ]
     },
     "metadata": {},
     "output_type": "display_data"
    },
    {
     "name": "stdout",
     "output_type": "stream",
     "text": [
      "\n",
      "Unique values of HourlyRate\n"
     ]
    },
    {
     "data": {
      "text/plain": [
       "array([ 94,  61,  92,  56,  40,  79,  81,  67,  44,  84,  49,  31,  93,\n",
       "        50,  51,  80,  96,  78,  45,  82,  53,  83,  58,  72,  48,  42,\n",
       "        41,  86,  97,  75,  33,  37,  73,  98,  36,  47,  71,  30,  43,\n",
       "        99,  59,  95,  57,  76,  87,  66,  55,  32,  52,  70,  62,  64,\n",
       "        63,  60, 100,  46,  39,  77,  35,  91,  54,  34,  90,  65,  88,\n",
       "        85,  89,  68,  69,  74,  38], dtype=int64)"
      ]
     },
     "metadata": {},
     "output_type": "display_data"
    },
    {
     "name": "stdout",
     "output_type": "stream",
     "text": [
      "\n",
      "Unique values of JobInvolvement\n"
     ]
    },
    {
     "data": {
      "text/plain": [
       "array([3, 2, 4, 1], dtype=int64)"
      ]
     },
     "metadata": {},
     "output_type": "display_data"
    },
    {
     "name": "stdout",
     "output_type": "stream",
     "text": [
      "\n",
      "Unique values of JobLevel\n"
     ]
    },
    {
     "data": {
      "text/plain": [
       "array([2, 1, 3, 4, 5], dtype=int64)"
      ]
     },
     "metadata": {},
     "output_type": "display_data"
    },
    {
     "name": "stdout",
     "output_type": "stream",
     "text": [
      "\n",
      "Unique values of JobRole\n"
     ]
    },
    {
     "data": {
      "text/plain": [
       "array(['Nurse', 'Other', 'Therapist', 'Administrative', 'Admin'],\n",
       "      dtype=object)"
      ]
     },
     "metadata": {},
     "output_type": "display_data"
    },
    {
     "name": "stdout",
     "output_type": "stream",
     "text": [
      "\n",
      "Unique values of JobSatisfaction\n"
     ]
    },
    {
     "data": {
      "text/plain": [
       "array([4, 2, 3, 1], dtype=int64)"
      ]
     },
     "metadata": {},
     "output_type": "display_data"
    },
    {
     "name": "stdout",
     "output_type": "stream",
     "text": [
      "\n",
      "Unique values of MaritalStatus\n"
     ]
    },
    {
     "data": {
      "text/plain": [
       "array(['Single', 'Married', 'Divorced'], dtype=object)"
      ]
     },
     "metadata": {},
     "output_type": "display_data"
    },
    {
     "name": "stdout",
     "output_type": "stream",
     "text": [
      "\n",
      "Unique values of MonthlyIncome\n"
     ]
    },
    {
     "data": {
      "text/plain": [
       "array([ 5993,  5130,  2090, ..., 12742,  9071,  2836], dtype=int64)"
      ]
     },
     "metadata": {},
     "output_type": "display_data"
    },
    {
     "name": "stdout",
     "output_type": "stream",
     "text": [
      "\n",
      "Unique values of MonthlyRate\n"
     ]
    },
    {
     "data": {
      "text/plain": [
       "array([19479, 24907,  2396, ..., 11563, 11757, 26997], dtype=int64)"
      ]
     },
     "metadata": {},
     "output_type": "display_data"
    },
    {
     "name": "stdout",
     "output_type": "stream",
     "text": [
      "\n",
      "Unique values of NumCompaniesWorked\n"
     ]
    },
    {
     "data": {
      "text/plain": [
       "array([8, 1, 6, 9, 0, 4, 5, 2, 7, 3], dtype=int64)"
      ]
     },
     "metadata": {},
     "output_type": "display_data"
    },
    {
     "name": "stdout",
     "output_type": "stream",
     "text": [
      "\n",
      "Unique values of Over18\n"
     ]
    },
    {
     "data": {
      "text/plain": [
       "array(['Y'], dtype=object)"
      ]
     },
     "metadata": {},
     "output_type": "display_data"
    },
    {
     "name": "stdout",
     "output_type": "stream",
     "text": [
      "\n",
      "Unique values of OverTime\n"
     ]
    },
    {
     "data": {
      "text/plain": [
       "array(['Yes', 'No'], dtype=object)"
      ]
     },
     "metadata": {},
     "output_type": "display_data"
    },
    {
     "name": "stdout",
     "output_type": "stream",
     "text": [
      "\n",
      "Unique values of PercentSalaryHike\n"
     ]
    },
    {
     "data": {
      "text/plain": [
       "array([11, 23, 15, 12, 13, 20, 22, 21, 17, 14, 16, 18, 19, 24, 25],\n",
       "      dtype=int64)"
      ]
     },
     "metadata": {},
     "output_type": "display_data"
    },
    {
     "name": "stdout",
     "output_type": "stream",
     "text": [
      "\n",
      "Unique values of PerformanceRating\n"
     ]
    },
    {
     "data": {
      "text/plain": [
       "array([3, 4], dtype=int64)"
      ]
     },
     "metadata": {},
     "output_type": "display_data"
    },
    {
     "name": "stdout",
     "output_type": "stream",
     "text": [
      "\n",
      "Unique values of RelationshipSatisfaction\n"
     ]
    },
    {
     "data": {
      "text/plain": [
       "array([1, 4, 2, 3], dtype=int64)"
      ]
     },
     "metadata": {},
     "output_type": "display_data"
    },
    {
     "name": "stdout",
     "output_type": "stream",
     "text": [
      "\n",
      "Unique values of StandardHours\n"
     ]
    },
    {
     "data": {
      "text/plain": [
       "array([80], dtype=int64)"
      ]
     },
     "metadata": {},
     "output_type": "display_data"
    },
    {
     "name": "stdout",
     "output_type": "stream",
     "text": [
      "\n",
      "Unique values of Shift\n"
     ]
    },
    {
     "data": {
      "text/plain": [
       "array([0, 1, 3, 2], dtype=int64)"
      ]
     },
     "metadata": {},
     "output_type": "display_data"
    },
    {
     "name": "stdout",
     "output_type": "stream",
     "text": [
      "\n",
      "Unique values of TotalWorkingYears\n"
     ]
    },
    {
     "data": {
      "text/plain": [
       "array([ 8, 10,  7,  6, 12,  1, 17,  5,  3, 31, 13,  0, 26, 24, 22,  9, 19,\n",
       "        2, 23, 14, 15,  4, 29, 28, 21, 25, 20, 11, 16, 37, 38, 30, 40, 18,\n",
       "       36, 34, 32, 33, 35, 27], dtype=int64)"
      ]
     },
     "metadata": {},
     "output_type": "display_data"
    },
    {
     "name": "stdout",
     "output_type": "stream",
     "text": [
      "\n",
      "Unique values of TrainingTimesLastYear\n"
     ]
    },
    {
     "data": {
      "text/plain": [
       "array([0, 3, 2, 5, 1, 4, 6], dtype=int64)"
      ]
     },
     "metadata": {},
     "output_type": "display_data"
    },
    {
     "name": "stdout",
     "output_type": "stream",
     "text": [
      "\n",
      "Unique values of WorkLifeBalance\n"
     ]
    },
    {
     "data": {
      "text/plain": [
       "array([1, 3, 2, 4], dtype=int64)"
      ]
     },
     "metadata": {},
     "output_type": "display_data"
    },
    {
     "name": "stdout",
     "output_type": "stream",
     "text": [
      "\n",
      "Unique values of YearsAtCompany\n"
     ]
    },
    {
     "data": {
      "text/plain": [
       "array([ 6, 10,  0,  8,  2,  7,  1,  9,  5,  4, 25,  3, 12, 14, 22, 15, 27,\n",
       "       21, 17, 11, 13, 37, 16, 20, 40, 24, 33, 19, 36, 18, 29, 31, 32, 34,\n",
       "       26, 30, 23], dtype=int64)"
      ]
     },
     "metadata": {},
     "output_type": "display_data"
    },
    {
     "name": "stdout",
     "output_type": "stream",
     "text": [
      "\n",
      "Unique values of YearsInCurrentRole\n"
     ]
    },
    {
     "data": {
      "text/plain": [
       "array([ 4,  7,  0,  2,  5,  9,  8,  3,  6, 13,  1, 15, 14, 16, 11, 10, 12,\n",
       "       18, 17], dtype=int64)"
      ]
     },
     "metadata": {},
     "output_type": "display_data"
    },
    {
     "name": "stdout",
     "output_type": "stream",
     "text": [
      "\n",
      "Unique values of YearsSinceLastPromotion\n"
     ]
    },
    {
     "data": {
      "text/plain": [
       "array([ 0,  1,  3,  2,  7,  4,  8,  6,  5, 15,  9, 13, 12, 10, 11, 14],\n",
       "      dtype=int64)"
      ]
     },
     "metadata": {},
     "output_type": "display_data"
    },
    {
     "name": "stdout",
     "output_type": "stream",
     "text": [
      "\n",
      "Unique values of YearsWithCurrManager\n"
     ]
    },
    {
     "data": {
      "text/plain": [
       "array([ 5,  7,  0,  2,  6,  8,  3, 11, 17,  1,  4, 12,  9, 10, 15, 13, 16,\n",
       "       14], dtype=int64)"
      ]
     },
     "metadata": {},
     "output_type": "display_data"
    },
    {
     "name": "stdout",
     "output_type": "stream",
     "text": [
      "\n"
     ]
    }
   ],
   "source": [
    "for n in cols:\n",
    "    print('Unique values of', n)\n",
    "    display(pd.unique(main_df[n]))\n",
    "    print()"
   ]
  },
  {
   "cell_type": "markdown",
   "metadata": {},
   "source": [
    "As we can see, there are some columns which lack clarification or are not meaningful from the source. These columns will be dropped.\n",
    "- EmployeeCount is always 1\n",
    "- StandardHours is always 80\n",
    "- Over18 is always Yes\n",
    "- Daily, hourly, monthly rate (no meaningful given)\n",
    "- JobRoles have both Administrative and Admin, which both should refer to the same category, we will rename this value."
   ]
  },
  {
   "cell_type": "code",
   "execution_count": 5,
   "metadata": {
    "execution": {
     "iopub.execute_input": "2022-08-28T11:52:03.300104Z",
     "iopub.status.busy": "2022-08-28T11:52:03.299648Z",
     "iopub.status.idle": "2022-08-28T11:52:03.328123Z",
     "shell.execute_reply": "2022-08-28T11:52:03.326955Z",
     "shell.execute_reply.started": "2022-08-28T11:52:03.300060Z"
    }
   },
   "outputs": [
    {
     "data": {
      "text/html": [
       "<div>\n",
       "<style scoped>\n",
       "    .dataframe tbody tr th:only-of-type {\n",
       "        vertical-align: middle;\n",
       "    }\n",
       "\n",
       "    .dataframe tbody tr th {\n",
       "        vertical-align: top;\n",
       "    }\n",
       "\n",
       "    .dataframe thead th {\n",
       "        text-align: right;\n",
       "    }\n",
       "</style>\n",
       "<table border=\"1\" class=\"dataframe\">\n",
       "  <thead>\n",
       "    <tr style=\"text-align: right;\">\n",
       "      <th></th>\n",
       "      <th>Age</th>\n",
       "      <th>Attrition</th>\n",
       "      <th>BusinessTravel</th>\n",
       "      <th>Department</th>\n",
       "      <th>DistanceFromHome</th>\n",
       "      <th>Education</th>\n",
       "      <th>EducationField</th>\n",
       "      <th>EnvironmentSatisfaction</th>\n",
       "      <th>Gender</th>\n",
       "      <th>JobInvolvement</th>\n",
       "      <th>...</th>\n",
       "      <th>PerformanceRating</th>\n",
       "      <th>RelationshipSatisfaction</th>\n",
       "      <th>Shift</th>\n",
       "      <th>TotalWorkingYears</th>\n",
       "      <th>TrainingTimesLastYear</th>\n",
       "      <th>WorkLifeBalance</th>\n",
       "      <th>YearsAtCompany</th>\n",
       "      <th>YearsInCurrentRole</th>\n",
       "      <th>YearsSinceLastPromotion</th>\n",
       "      <th>YearsWithCurrManager</th>\n",
       "    </tr>\n",
       "    <tr>\n",
       "      <th>EmployeeID</th>\n",
       "      <th></th>\n",
       "      <th></th>\n",
       "      <th></th>\n",
       "      <th></th>\n",
       "      <th></th>\n",
       "      <th></th>\n",
       "      <th></th>\n",
       "      <th></th>\n",
       "      <th></th>\n",
       "      <th></th>\n",
       "      <th></th>\n",
       "      <th></th>\n",
       "      <th></th>\n",
       "      <th></th>\n",
       "      <th></th>\n",
       "      <th></th>\n",
       "      <th></th>\n",
       "      <th></th>\n",
       "      <th></th>\n",
       "      <th></th>\n",
       "      <th></th>\n",
       "    </tr>\n",
       "  </thead>\n",
       "  <tbody>\n",
       "    <tr>\n",
       "      <th>1313919</th>\n",
       "      <td>41</td>\n",
       "      <td>No</td>\n",
       "      <td>Travel_Rarely</td>\n",
       "      <td>Cardiology</td>\n",
       "      <td>1</td>\n",
       "      <td>2</td>\n",
       "      <td>Life Sciences</td>\n",
       "      <td>2</td>\n",
       "      <td>Female</td>\n",
       "      <td>3</td>\n",
       "      <td>...</td>\n",
       "      <td>3</td>\n",
       "      <td>1</td>\n",
       "      <td>0</td>\n",
       "      <td>8</td>\n",
       "      <td>0</td>\n",
       "      <td>1</td>\n",
       "      <td>6</td>\n",
       "      <td>4</td>\n",
       "      <td>0</td>\n",
       "      <td>5</td>\n",
       "    </tr>\n",
       "    <tr>\n",
       "      <th>1200302</th>\n",
       "      <td>49</td>\n",
       "      <td>No</td>\n",
       "      <td>Travel_Frequently</td>\n",
       "      <td>Maternity</td>\n",
       "      <td>8</td>\n",
       "      <td>1</td>\n",
       "      <td>Life Sciences</td>\n",
       "      <td>3</td>\n",
       "      <td>Male</td>\n",
       "      <td>2</td>\n",
       "      <td>...</td>\n",
       "      <td>4</td>\n",
       "      <td>4</td>\n",
       "      <td>1</td>\n",
       "      <td>10</td>\n",
       "      <td>3</td>\n",
       "      <td>3</td>\n",
       "      <td>10</td>\n",
       "      <td>7</td>\n",
       "      <td>1</td>\n",
       "      <td>7</td>\n",
       "    </tr>\n",
       "    <tr>\n",
       "      <th>1060315</th>\n",
       "      <td>37</td>\n",
       "      <td>Yes</td>\n",
       "      <td>Travel_Rarely</td>\n",
       "      <td>Maternity</td>\n",
       "      <td>2</td>\n",
       "      <td>2</td>\n",
       "      <td>Other</td>\n",
       "      <td>4</td>\n",
       "      <td>Male</td>\n",
       "      <td>2</td>\n",
       "      <td>...</td>\n",
       "      <td>3</td>\n",
       "      <td>2</td>\n",
       "      <td>0</td>\n",
       "      <td>7</td>\n",
       "      <td>3</td>\n",
       "      <td>3</td>\n",
       "      <td>0</td>\n",
       "      <td>0</td>\n",
       "      <td>0</td>\n",
       "      <td>0</td>\n",
       "    </tr>\n",
       "    <tr>\n",
       "      <th>1272912</th>\n",
       "      <td>33</td>\n",
       "      <td>No</td>\n",
       "      <td>Travel_Frequently</td>\n",
       "      <td>Maternity</td>\n",
       "      <td>3</td>\n",
       "      <td>4</td>\n",
       "      <td>Life Sciences</td>\n",
       "      <td>4</td>\n",
       "      <td>Female</td>\n",
       "      <td>3</td>\n",
       "      <td>...</td>\n",
       "      <td>3</td>\n",
       "      <td>3</td>\n",
       "      <td>0</td>\n",
       "      <td>8</td>\n",
       "      <td>3</td>\n",
       "      <td>3</td>\n",
       "      <td>8</td>\n",
       "      <td>7</td>\n",
       "      <td>3</td>\n",
       "      <td>0</td>\n",
       "    </tr>\n",
       "    <tr>\n",
       "      <th>1414939</th>\n",
       "      <td>27</td>\n",
       "      <td>No</td>\n",
       "      <td>Travel_Rarely</td>\n",
       "      <td>Maternity</td>\n",
       "      <td>2</td>\n",
       "      <td>1</td>\n",
       "      <td>Medical</td>\n",
       "      <td>1</td>\n",
       "      <td>Male</td>\n",
       "      <td>3</td>\n",
       "      <td>...</td>\n",
       "      <td>3</td>\n",
       "      <td>4</td>\n",
       "      <td>1</td>\n",
       "      <td>6</td>\n",
       "      <td>3</td>\n",
       "      <td>3</td>\n",
       "      <td>2</td>\n",
       "      <td>2</td>\n",
       "      <td>2</td>\n",
       "      <td>2</td>\n",
       "    </tr>\n",
       "  </tbody>\n",
       "</table>\n",
       "<p>5 rows × 28 columns</p>\n",
       "</div>"
      ],
      "text/plain": [
       "            Age Attrition     BusinessTravel  Department  DistanceFromHome  \\\n",
       "EmployeeID                                                                   \n",
       "1313919      41        No      Travel_Rarely  Cardiology                 1   \n",
       "1200302      49        No  Travel_Frequently   Maternity                 8   \n",
       "1060315      37       Yes      Travel_Rarely   Maternity                 2   \n",
       "1272912      33        No  Travel_Frequently   Maternity                 3   \n",
       "1414939      27        No      Travel_Rarely   Maternity                 2   \n",
       "\n",
       "            Education EducationField  EnvironmentSatisfaction  Gender  \\\n",
       "EmployeeID                                                              \n",
       "1313919             2  Life Sciences                        2  Female   \n",
       "1200302             1  Life Sciences                        3    Male   \n",
       "1060315             2          Other                        4    Male   \n",
       "1272912             4  Life Sciences                        4  Female   \n",
       "1414939             1        Medical                        1    Male   \n",
       "\n",
       "            JobInvolvement  ...  PerformanceRating RelationshipSatisfaction  \\\n",
       "EmployeeID                  ...                                               \n",
       "1313919                  3  ...                  3                        1   \n",
       "1200302                  2  ...                  4                        4   \n",
       "1060315                  2  ...                  3                        2   \n",
       "1272912                  3  ...                  3                        3   \n",
       "1414939                  3  ...                  3                        4   \n",
       "\n",
       "            Shift TotalWorkingYears  TrainingTimesLastYear  WorkLifeBalance  \\\n",
       "EmployeeID                                                                    \n",
       "1313919         0                 8                      0                1   \n",
       "1200302         1                10                      3                3   \n",
       "1060315         0                 7                      3                3   \n",
       "1272912         0                 8                      3                3   \n",
       "1414939         1                 6                      3                3   \n",
       "\n",
       "           YearsAtCompany  YearsInCurrentRole  YearsSinceLastPromotion  \\\n",
       "EmployeeID                                                               \n",
       "1313919                 6                   4                        0   \n",
       "1200302                10                   7                        1   \n",
       "1060315                 0                   0                        0   \n",
       "1272912                 8                   7                        3   \n",
       "1414939                 2                   2                        2   \n",
       "\n",
       "            YearsWithCurrManager  \n",
       "EmployeeID                        \n",
       "1313919                        5  \n",
       "1200302                        7  \n",
       "1060315                        0  \n",
       "1272912                        0  \n",
       "1414939                        2  \n",
       "\n",
       "[5 rows x 28 columns]"
      ]
     },
     "execution_count": 5,
     "metadata": {},
     "output_type": "execute_result"
    }
   ],
   "source": [
    "main_df.drop(['DailyRate', 'Over18','StandardHours', 'EmployeeCount', 'DailyRate','MonthlyRate', 'HourlyRate'], axis = 1, inplace = True)\n",
    "main_df.head()"
   ]
  },
  {
   "cell_type": "code",
   "execution_count": 6,
   "metadata": {
    "execution": {
     "iopub.execute_input": "2022-08-28T11:52:03.330290Z",
     "iopub.status.busy": "2022-08-28T11:52:03.329850Z",
     "iopub.status.idle": "2022-08-28T11:52:03.344590Z",
     "shell.execute_reply": "2022-08-28T11:52:03.343754Z",
     "shell.execute_reply.started": "2022-08-28T11:52:03.330247Z"
    }
   },
   "outputs": [
    {
     "data": {
      "text/plain": [
       "115"
      ]
     },
     "metadata": {},
     "output_type": "display_data"
    },
    {
     "data": {
      "text/plain": [
       "115"
      ]
     },
     "metadata": {},
     "output_type": "display_data"
    }
   ],
   "source": [
    "cond = (main_df['JobRole']== 'Administrative')\n",
    "display(cond.sum())\n",
    "main_df.loc[cond, 'JobRole'] = 'Admin'\n",
    "display(cond.sum())"
   ]
  },
  {
   "cell_type": "markdown",
   "metadata": {},
   "source": [
    "# 2. Identifying patterns within Background History of Employees\n",
    "- We will see if there are any correlations between the employees' background history and their attrition."
   ]
  },
  {
   "cell_type": "code",
   "execution_count": 7,
   "metadata": {
    "execution": {
     "iopub.execute_input": "2022-08-28T11:52:03.346239Z",
     "iopub.status.busy": "2022-08-28T11:52:03.345906Z",
     "iopub.status.idle": "2022-08-28T11:52:04.117158Z",
     "shell.execute_reply": "2022-08-28T11:52:04.116060Z",
     "shell.execute_reply.started": "2022-08-28T11:52:03.346209Z"
    }
   },
   "outputs": [
    {
     "data": {
      "text/html": [
       "<div>\n",
       "<style scoped>\n",
       "    .dataframe tbody tr th:only-of-type {\n",
       "        vertical-align: middle;\n",
       "    }\n",
       "\n",
       "    .dataframe tbody tr th {\n",
       "        vertical-align: top;\n",
       "    }\n",
       "\n",
       "    .dataframe thead th {\n",
       "        text-align: right;\n",
       "    }\n",
       "</style>\n",
       "<table border=\"1\" class=\"dataframe\">\n",
       "  <thead>\n",
       "    <tr style=\"text-align: right;\">\n",
       "      <th></th>\n",
       "      <th>Age</th>\n",
       "      <th>Education</th>\n",
       "      <th>DistanceFromHome</th>\n",
       "      <th>NumCompaniesWorked</th>\n",
       "      <th>YearsAtCompany</th>\n",
       "    </tr>\n",
       "  </thead>\n",
       "  <tbody>\n",
       "    <tr>\n",
       "      <th>count</th>\n",
       "      <td>1676.00</td>\n",
       "      <td>1676.00</td>\n",
       "      <td>1676.00</td>\n",
       "      <td>1676.00</td>\n",
       "      <td>1676.00</td>\n",
       "    </tr>\n",
       "    <tr>\n",
       "      <th>mean</th>\n",
       "      <td>36.87</td>\n",
       "      <td>2.91</td>\n",
       "      <td>9.22</td>\n",
       "      <td>2.66</td>\n",
       "      <td>7.03</td>\n",
       "    </tr>\n",
       "    <tr>\n",
       "      <th>std</th>\n",
       "      <td>9.13</td>\n",
       "      <td>1.03</td>\n",
       "      <td>8.16</td>\n",
       "      <td>2.48</td>\n",
       "      <td>6.10</td>\n",
       "    </tr>\n",
       "    <tr>\n",
       "      <th>min</th>\n",
       "      <td>18.00</td>\n",
       "      <td>1.00</td>\n",
       "      <td>1.00</td>\n",
       "      <td>0.00</td>\n",
       "      <td>0.00</td>\n",
       "    </tr>\n",
       "    <tr>\n",
       "      <th>25%</th>\n",
       "      <td>30.00</td>\n",
       "      <td>2.00</td>\n",
       "      <td>2.00</td>\n",
       "      <td>1.00</td>\n",
       "      <td>3.00</td>\n",
       "    </tr>\n",
       "    <tr>\n",
       "      <th>50%</th>\n",
       "      <td>36.00</td>\n",
       "      <td>3.00</td>\n",
       "      <td>7.00</td>\n",
       "      <td>2.00</td>\n",
       "      <td>5.00</td>\n",
       "    </tr>\n",
       "    <tr>\n",
       "      <th>75%</th>\n",
       "      <td>43.00</td>\n",
       "      <td>4.00</td>\n",
       "      <td>14.00</td>\n",
       "      <td>4.00</td>\n",
       "      <td>10.00</td>\n",
       "    </tr>\n",
       "    <tr>\n",
       "      <th>max</th>\n",
       "      <td>60.00</td>\n",
       "      <td>5.00</td>\n",
       "      <td>29.00</td>\n",
       "      <td>9.00</td>\n",
       "      <td>40.00</td>\n",
       "    </tr>\n",
       "  </tbody>\n",
       "</table>\n",
       "</div>"
      ],
      "text/plain": [
       "           Age  Education  DistanceFromHome  NumCompaniesWorked  \\\n",
       "count  1676.00    1676.00           1676.00             1676.00   \n",
       "mean     36.87       2.91              9.22                2.66   \n",
       "std       9.13       1.03              8.16                2.48   \n",
       "min      18.00       1.00              1.00                0.00   \n",
       "25%      30.00       2.00              2.00                1.00   \n",
       "50%      36.00       3.00              7.00                2.00   \n",
       "75%      43.00       4.00             14.00                4.00   \n",
       "max      60.00       5.00             29.00                9.00   \n",
       "\n",
       "       YearsAtCompany  \n",
       "count         1676.00  \n",
       "mean             7.03  \n",
       "std              6.10  \n",
       "min              0.00  \n",
       "25%              3.00  \n",
       "50%              5.00  \n",
       "75%             10.00  \n",
       "max             40.00  "
      ]
     },
     "metadata": {},
     "output_type": "display_data"
    },
    {
     "data": {
      "text/plain": [
       "<seaborn.axisgrid.FacetGrid at 0x22296a4a340>"
      ]
     },
     "execution_count": 7,
     "metadata": {},
     "output_type": "execute_result"
    },
    {
     "data": {
      "image/png": "[encoded data removed]",
      "text/plain": [
       "<Figure size 800.375x360 with 2 Axes>"
      ]
     },
     "metadata": {
      "needs_background": "light"
     },
     "output_type": "display_data"
    }
   ],
   "source": [
    "bg_history_df = main_df[['Attrition','Age', 'EducationField', 'Education', 'DistanceFromHome', 'MaritalStatus', 'Gender', 'NumCompaniesWorked', 'YearsAtCompany']]\n",
    "display(round(bg_history_df.describe(), 2))\n",
    "\n",
    "sns.catplot(data = bg_history_df, y = 'EducationField', hue = 'MaritalStatus', col = 'Attrition', kind = 'count', palette = 'Set1')"
   ]
  },
  {
   "cell_type": "markdown",
   "metadata": {},
   "source": [
    "- **Across all education fields, we see that healthcare employees that are single have the highest count of attrition.**\n",
    "- **Healthcare employees that are married tend to have a lower count of attrition**"
   ]
  },
  {
   "cell_type": "code",
   "execution_count": 8,
   "metadata": {
    "execution": {
     "iopub.execute_input": "2022-08-28T11:52:04.118771Z",
     "iopub.status.busy": "2022-08-28T11:52:04.118417Z",
     "iopub.status.idle": "2022-08-28T11:52:05.800274Z",
     "shell.execute_reply": "2022-08-28T11:52:05.799100Z",
     "shell.execute_reply.started": "2022-08-28T11:52:04.118738Z"
    }
   },
   "outputs": [
    {
     "data": {
      "text/plain": [
       "<AxesSubplot:xlabel='Attrition', ylabel='Age'>"
      ]
     },
     "execution_count": 8,
     "metadata": {},
     "output_type": "execute_result"
    },
    {
     "data": {
      "image/png": "[encoded data removed]",
      "text/plain": [
       "<Figure size 864x576 with 1 Axes>"
      ]
     },
     "metadata": {
      "needs_background": "light"
     },
     "output_type": "display_data"
    }
   ],
   "source": [
    "plt.figure(figsize=(12,8))\n",
    "#sns.kdeplot(data = bg_history_df, x = 'Age', hue = 'Attrition')\n",
    "sns.swarmplot(data = bg_history_df, x = 'Attrition', y = 'Age', size = 4, palette = 'Set2')"
   ]
  },
  {
   "cell_type": "markdown",
   "metadata": {},
   "source": [
    "- **We notice that employees aged between 18 to 35 have the highest density of attrition.**"
   ]
  },
  {
   "cell_type": "code",
   "execution_count": 9,
   "metadata": {
    "execution": {
     "iopub.execute_input": "2022-08-28T11:52:05.802357Z",
     "iopub.status.busy": "2022-08-28T11:52:05.801664Z",
     "iopub.status.idle": "2022-08-28T11:52:06.070101Z",
     "shell.execute_reply": "2022-08-28T11:52:06.069180Z",
     "shell.execute_reply.started": "2022-08-28T11:52:05.802312Z"
    }
   },
   "outputs": [
    {
     "data": {
      "text/plain": [
       "<AxesSubplot:xlabel='MaritalStatus', ylabel='DistanceFromHome'>"
      ]
     },
     "metadata": {},
     "output_type": "display_data"
    },
    {
     "name": "stdout",
     "output_type": "stream",
     "text": [
      "\n",
      "Means for Violinplot below\n",
      "Single Mean (No) 8.6495\n",
      "Single Mean (Yes) 10.614\n",
      "\n",
      "Married Mean (No) 9.088\n",
      "Married Mean (Yes) 13.3607\n",
      "\n",
      "Divorced Mean (No) 8.8329\n",
      "Divorced Mean (Yes) 11.5417\n",
      "\n"
     ]
    },
    {
     "data": {
      "image/png": "[encoded data removed]",
      "text/plain": [
       "<Figure size 720x576 with 1 Axes>"
      ]
     },
     "metadata": {
      "needs_background": "light"
     },
     "output_type": "display_data"
    }
   ],
   "source": [
    "plt.figure(figsize=(10,8))\n",
    "display(sns.violinplot(data = bg_history_df, y = 'DistanceFromHome', \n",
    "                       x = 'MaritalStatus' , hue = 'Attrition', split = True,\n",
    "                      palette = 'Set2'))\n",
    "\n",
    "print('\\nMeans for Violinplot below')\n",
    "conditions = ['Single', 'Married', 'Divorced']\n",
    "for n in conditions:\n",
    "    cond = (bg_history_df['MaritalStatus'] == n) & (bg_history_df['Attrition'] == 'No')\n",
    "    print(n, 'Mean (No)',round((bg_history_df[cond]).DistanceFromHome.mean(), 4))\n",
    "    cond = (bg_history_df['MaritalStatus'] == n) & (bg_history_df['Attrition'] == 'Yes')\n",
    "    print(n, 'Mean (Yes)',round((bg_history_df[cond]).DistanceFromHome.mean(), 4))\n",
    "    print()"
   ]
  },
  {
   "cell_type": "markdown",
   "metadata": {},
   "source": [
    "- **Across all marital status, we see that there is a higher mean for distance from home that results in attrition, this is observed across all marital status and especially higher for married employees.**\n",
    "- **Employees that have a short distance from home (below 10) tend to have a low attrition rate**"
   ]
  },
  {
   "cell_type": "code",
   "execution_count": 10,
   "metadata": {
    "execution": {
     "iopub.execute_input": "2022-08-28T11:52:06.074971Z",
     "iopub.status.busy": "2022-08-28T11:52:06.074109Z",
     "iopub.status.idle": "2022-08-28T11:52:06.321535Z",
     "shell.execute_reply": "2022-08-28T11:52:06.320429Z",
     "shell.execute_reply.started": "2022-08-28T11:52:06.074929Z"
    }
   },
   "outputs": [
    {
     "data": {
      "text/plain": [
       "<AxesSubplot:xlabel='NumCompaniesWorked', ylabel='Count'>"
      ]
     },
     "execution_count": 10,
     "metadata": {},
     "output_type": "execute_result"
    },
    {
     "data": {
      "image/png": "[encoded data removed]",
      "text/plain": [
       "<Figure size 720x576 with 1 Axes>"
      ]
     },
     "metadata": {
      "needs_background": "light"
     },
     "output_type": "display_data"
    }
   ],
   "source": [
    "plt.figure(figsize=(10,8))\n",
    "sns.histplot(data = bg_history_df, x = 'NumCompaniesWorked', hue = 'Attrition', \n",
    "             discrete = True, multiple = 'stack', palette = 'Set2')\n",
    "#sns.catplot(data = bg_history_df, x = 'NumCompaniesWorked', kind = 'count' , hue = 'Attrition', col = 'MaritalStatus')"
   ]
  },
  {
   "cell_type": "markdown",
   "metadata": {},
   "source": [
    "- **Here we see little difference between the number of companies worked against attrition rate.**\n",
    "- **We note that most healthcare employees have only worked 1 company prior to their current work.**"
   ]
  },
  {
   "cell_type": "code",
   "execution_count": 11,
   "metadata": {
    "execution": {
     "iopub.execute_input": "2022-08-28T11:52:06.323397Z",
     "iopub.status.busy": "2022-08-28T11:52:06.323064Z",
     "iopub.status.idle": "2022-08-28T11:52:06.328573Z",
     "shell.execute_reply": "2022-08-28T11:52:06.327331Z",
     "shell.execute_reply.started": "2022-08-28T11:52:06.323366Z"
    }
   },
   "outputs": [],
   "source": [
    "#sns.pairplot(data = bg_history_df,  y_vars = ['MaritalStatus','EducationField', 'Gender'], x_vars = ['DistanceFromHome', 'NumCompaniesWorked', 'Education'], hue = 'Attrition',kind = 'hist')\n"
   ]
  },
  {
   "cell_type": "markdown",
   "metadata": {},
   "source": [
    "# 2. Identifying Work Engagement based on Department and Job Role\n",
    "We identify employees' level of engagement based on\n",
    "- JobInvolvement\n",
    "- JobSatisfaction\n",
    "- EnvironmentSatisfaction\n",
    "- RelationshipSatisfaction\n",
    "- WorkLifeBalance\n",
    "- PerformanceRating\n",
    "- TrainingTimesLastYear\n",
    "- JobLevel\n",
    "- YearsSinceLastPromotion\n",
    "- YearsWithCurrManager\n"
   ]
  },
  {
   "cell_type": "code",
   "execution_count": 12,
   "metadata": {
    "execution": {
     "iopub.execute_input": "2022-08-28T11:52:06.330010Z",
     "iopub.status.busy": "2022-08-28T11:52:06.329645Z",
     "iopub.status.idle": "2022-08-28T11:52:06.377063Z",
     "shell.execute_reply": "2022-08-28T11:52:06.375898Z",
     "shell.execute_reply.started": "2022-08-28T11:52:06.329971Z"
    }
   },
   "outputs": [
    {
     "data": {
      "text/html": [
       "<div>\n",
       "<style scoped>\n",
       "    .dataframe tbody tr th:only-of-type {\n",
       "        vertical-align: middle;\n",
       "    }\n",
       "\n",
       "    .dataframe tbody tr th {\n",
       "        vertical-align: top;\n",
       "    }\n",
       "\n",
       "    .dataframe thead th {\n",
       "        text-align: right;\n",
       "    }\n",
       "</style>\n",
       "<table border=\"1\" class=\"dataframe\">\n",
       "  <thead>\n",
       "    <tr style=\"text-align: right;\">\n",
       "      <th></th>\n",
       "      <th>JobLevel</th>\n",
       "      <th>JobInvolvement</th>\n",
       "      <th>JobSatisfaction</th>\n",
       "      <th>EnvironmentSatisfaction</th>\n",
       "      <th>RelationshipSatisfaction</th>\n",
       "      <th>WorkLifeBalance</th>\n",
       "      <th>PerformanceRating</th>\n",
       "    </tr>\n",
       "  </thead>\n",
       "  <tbody>\n",
       "    <tr>\n",
       "      <th>count</th>\n",
       "      <td>1676.00</td>\n",
       "      <td>1676.00</td>\n",
       "      <td>1676.00</td>\n",
       "      <td>1676.00</td>\n",
       "      <td>1676.00</td>\n",
       "      <td>1676.00</td>\n",
       "      <td>1676.00</td>\n",
       "    </tr>\n",
       "    <tr>\n",
       "      <th>mean</th>\n",
       "      <td>4.13</td>\n",
       "      <td>5.45</td>\n",
       "      <td>5.48</td>\n",
       "      <td>5.43</td>\n",
       "      <td>5.44</td>\n",
       "      <td>5.53</td>\n",
       "      <td>6.30</td>\n",
       "    </tr>\n",
       "    <tr>\n",
       "      <th>std</th>\n",
       "      <td>2.23</td>\n",
       "      <td>1.43</td>\n",
       "      <td>2.21</td>\n",
       "      <td>2.20</td>\n",
       "      <td>2.16</td>\n",
       "      <td>1.40</td>\n",
       "      <td>0.72</td>\n",
       "    </tr>\n",
       "    <tr>\n",
       "      <th>min</th>\n",
       "      <td>2.00</td>\n",
       "      <td>2.00</td>\n",
       "      <td>2.00</td>\n",
       "      <td>2.00</td>\n",
       "      <td>2.00</td>\n",
       "      <td>2.00</td>\n",
       "      <td>6.00</td>\n",
       "    </tr>\n",
       "    <tr>\n",
       "      <th>25%</th>\n",
       "      <td>2.00</td>\n",
       "      <td>4.00</td>\n",
       "      <td>4.00</td>\n",
       "      <td>4.00</td>\n",
       "      <td>4.00</td>\n",
       "      <td>4.00</td>\n",
       "      <td>6.00</td>\n",
       "    </tr>\n",
       "    <tr>\n",
       "      <th>50%</th>\n",
       "      <td>4.00</td>\n",
       "      <td>6.00</td>\n",
       "      <td>6.00</td>\n",
       "      <td>6.00</td>\n",
       "      <td>6.00</td>\n",
       "      <td>6.00</td>\n",
       "      <td>6.00</td>\n",
       "    </tr>\n",
       "    <tr>\n",
       "      <th>75%</th>\n",
       "      <td>6.00</td>\n",
       "      <td>6.00</td>\n",
       "      <td>8.00</td>\n",
       "      <td>8.00</td>\n",
       "      <td>8.00</td>\n",
       "      <td>6.00</td>\n",
       "      <td>6.00</td>\n",
       "    </tr>\n",
       "    <tr>\n",
       "      <th>max</th>\n",
       "      <td>10.00</td>\n",
       "      <td>8.00</td>\n",
       "      <td>8.00</td>\n",
       "      <td>8.00</td>\n",
       "      <td>8.00</td>\n",
       "      <td>8.00</td>\n",
       "      <td>8.00</td>\n",
       "    </tr>\n",
       "  </tbody>\n",
       "</table>\n",
       "</div>"
      ],
      "text/plain": [
       "       JobLevel  JobInvolvement  JobSatisfaction  EnvironmentSatisfaction  \\\n",
       "count   1676.00         1676.00          1676.00                  1676.00   \n",
       "mean       4.13            5.45             5.48                     5.43   \n",
       "std        2.23            1.43             2.21                     2.20   \n",
       "min        2.00            2.00             2.00                     2.00   \n",
       "25%        2.00            4.00             4.00                     4.00   \n",
       "50%        4.00            6.00             6.00                     6.00   \n",
       "75%        6.00            6.00             8.00                     8.00   \n",
       "max       10.00            8.00             8.00                     8.00   \n",
       "\n",
       "       RelationshipSatisfaction  WorkLifeBalance  PerformanceRating  \n",
       "count                   1676.00          1676.00            1676.00  \n",
       "mean                       5.44             5.53               6.30  \n",
       "std                        2.16             1.40               0.72  \n",
       "min                        2.00             2.00               6.00  \n",
       "25%                        4.00             4.00               6.00  \n",
       "50%                        6.00             6.00               6.00  \n",
       "75%                        8.00             6.00               6.00  \n",
       "max                        8.00             8.00               8.00  "
      ]
     },
     "execution_count": 12,
     "metadata": {},
     "output_type": "execute_result"
    }
   ],
   "source": [
    "left = main_df[['Department', 'JobRole', 'Attrition']] #these are the indexes \n",
    "right = main_df[['JobLevel','JobInvolvement','JobSatisfaction',\n",
    "          'EnvironmentSatisfaction','RelationshipSatisfaction', \n",
    "          'WorkLifeBalance','PerformanceRating']].apply(lambda x: (x*2)) #convert rating of 5 to percentage\n",
    "wcond_df = left.join(right)\n",
    "round(wcond_df.describe(), 2)\n",
    "\n",
    "#'TrainingTimesLastYear','YearsSinceLastPromotion','YearsWithCurrManager',\n"
   ]
  },
  {
   "cell_type": "code",
   "execution_count": 13,
   "metadata": {
    "execution": {
     "iopub.execute_input": "2022-08-28T11:52:06.379082Z",
     "iopub.status.busy": "2022-08-28T11:52:06.378748Z",
     "iopub.status.idle": "2022-08-28T11:52:07.068573Z",
     "shell.execute_reply": "2022-08-28T11:52:07.067762Z",
     "shell.execute_reply.started": "2022-08-28T11:52:06.379052Z"
    }
   },
   "outputs": [
    {
     "data": {
      "text/plain": [
       "<AxesSubplot:title={'center':'Heatmap of JobRole and Department against Ratings (scale of 1 to 10)'}, ylabel='JobRole-Department'>"
      ]
     },
     "execution_count": 13,
     "metadata": {},
     "output_type": "execute_result"
    },
    {
     "data": {
      "image/png": "[encoded data removed]",
      "text/plain": [
       "<Figure size 1080x720 with 2 Axes>"
      ]
     },
     "metadata": {
      "needs_background": "light"
     },
     "output_type": "display_data"
    }
   ],
   "source": [
    "#df = main_df[['Department', 'JobRole', 'JobSatisfaction']]\n",
    "#df.set_index('Department', inplace= True)\n",
    "piv = pd.pivot_table(data = wcond_df, index = ['JobRole', 'Department'])\n",
    "plt.figure(figsize=(15,10))\n",
    "plt.title('Heatmap of JobRole and Department against Ratings (scale of 1 to 10)')\n",
    "sns.heatmap(piv, annot=True, annot_kws={'size': 13})"
   ]
  },
  {
   "cell_type": "markdown",
   "metadata": {},
   "source": [
    "- **We can see that there is little difference in means of 'Environment, Relationship and Job Satisfaction' across all departments and roles**\n",
    "- **JobRoles of Nurses and Others are at a lower JobLevel than others.**"
   ]
  },
  {
   "cell_type": "code",
   "execution_count": 14,
   "metadata": {
    "execution": {
     "iopub.execute_input": "2022-08-28T11:52:07.070246Z",
     "iopub.status.busy": "2022-08-28T11:52:07.069910Z",
     "iopub.status.idle": "2022-08-28T11:52:07.352714Z",
     "shell.execute_reply": "2022-08-28T11:52:07.351705Z",
     "shell.execute_reply.started": "2022-08-28T11:52:07.070214Z"
    }
   },
   "outputs": [
    {
     "data": {
      "text/plain": [
       "<AxesSubplot:title={'center':'Heatmap of Attrition based on Ratings'}, ylabel='Attrition'>"
      ]
     },
     "metadata": {},
     "output_type": "display_data"
    },
    {
     "data": {
      "image/png": "[encoded data removed]",
      "text/plain": [
       "<Figure size 720x432 with 2 Axes>"
      ]
     },
     "metadata": {
      "needs_background": "light"
     },
     "output_type": "display_data"
    }
   ],
   "source": [
    "piv = pd.pivot_table(data = wcond_df, index = ['Attrition'])\n",
    "plt.figure(figsize=(10,6))\n",
    "plt.title('Heatmap of Attrition based on Ratings')\n",
    "display(sns.heatmap(piv, annot=True, annot_kws={'size': 13} ))"
   ]
  },
  {
   "cell_type": "markdown",
   "metadata": {},
   "source": [
    "- **Employees with attrition tend to have lower means (below average of 5)  for** \n",
    "1. JobLevel\n",
    "2. JobInvolvement\n",
    "3. EnvironmentSatisfaction\n",
    "4. JobSatisfaction\n",
    "5. RelationshipSatisfaction\n",
    "6. WorkLifeBalance"
   ]
  },
  {
   "cell_type": "markdown",
   "metadata": {},
   "source": []
  },
  {
   "cell_type": "markdown",
   "metadata": {},
   "source": [
    "# 3. Identifying Work compensation against Attrition"
   ]
  },
  {
   "cell_type": "code",
   "execution_count": 15,
   "metadata": {
    "execution": {
     "iopub.execute_input": "2022-08-28T11:52:07.354761Z",
     "iopub.status.busy": "2022-08-28T11:52:07.354178Z",
     "iopub.status.idle": "2022-08-28T11:52:07.388165Z",
     "shell.execute_reply": "2022-08-28T11:52:07.386999Z",
     "shell.execute_reply.started": "2022-08-28T11:52:07.354727Z"
    }
   },
   "outputs": [
    {
     "data": {
      "text/html": [
       "<div>\n",
       "<style scoped>\n",
       "    .dataframe tbody tr th:only-of-type {\n",
       "        vertical-align: middle;\n",
       "    }\n",
       "\n",
       "    .dataframe tbody tr th {\n",
       "        vertical-align: top;\n",
       "    }\n",
       "\n",
       "    .dataframe thead th {\n",
       "        text-align: right;\n",
       "    }\n",
       "</style>\n",
       "<table border=\"1\" class=\"dataframe\">\n",
       "  <thead>\n",
       "    <tr style=\"text-align: right;\">\n",
       "      <th></th>\n",
       "      <th>Age</th>\n",
       "      <th>JobLevel</th>\n",
       "      <th>MonthlyIncome</th>\n",
       "      <th>PercentSalaryHike</th>\n",
       "      <th>Shift</th>\n",
       "      <th>YearsAtCompany</th>\n",
       "      <th>YearsSinceLastPromotion</th>\n",
       "    </tr>\n",
       "  </thead>\n",
       "  <tbody>\n",
       "    <tr>\n",
       "      <th>count</th>\n",
       "      <td>1676.000000</td>\n",
       "      <td>1676.000000</td>\n",
       "      <td>1676.000000</td>\n",
       "      <td>1676.000000</td>\n",
       "      <td>1676.000000</td>\n",
       "      <td>1676.000000</td>\n",
       "      <td>1676.000000</td>\n",
       "    </tr>\n",
       "    <tr>\n",
       "      <th>mean</th>\n",
       "      <td>36.866348</td>\n",
       "      <td>2.066826</td>\n",
       "      <td>6516.512530</td>\n",
       "      <td>15.196897</td>\n",
       "      <td>0.806086</td>\n",
       "      <td>7.033413</td>\n",
       "      <td>2.200477</td>\n",
       "    </tr>\n",
       "    <tr>\n",
       "      <th>std</th>\n",
       "      <td>9.129126</td>\n",
       "      <td>1.113423</td>\n",
       "      <td>4728.456618</td>\n",
       "      <td>3.646550</td>\n",
       "      <td>0.855527</td>\n",
       "      <td>6.098991</td>\n",
       "      <td>3.229587</td>\n",
       "    </tr>\n",
       "    <tr>\n",
       "      <th>min</th>\n",
       "      <td>18.000000</td>\n",
       "      <td>1.000000</td>\n",
       "      <td>1009.000000</td>\n",
       "      <td>11.000000</td>\n",
       "      <td>0.000000</td>\n",
       "      <td>0.000000</td>\n",
       "      <td>0.000000</td>\n",
       "    </tr>\n",
       "    <tr>\n",
       "      <th>25%</th>\n",
       "      <td>30.000000</td>\n",
       "      <td>1.000000</td>\n",
       "      <td>2928.250000</td>\n",
       "      <td>12.000000</td>\n",
       "      <td>0.000000</td>\n",
       "      <td>3.000000</td>\n",
       "      <td>0.000000</td>\n",
       "    </tr>\n",
       "    <tr>\n",
       "      <th>50%</th>\n",
       "      <td>36.000000</td>\n",
       "      <td>2.000000</td>\n",
       "      <td>4899.000000</td>\n",
       "      <td>14.000000</td>\n",
       "      <td>1.000000</td>\n",
       "      <td>5.000000</td>\n",
       "      <td>1.000000</td>\n",
       "    </tr>\n",
       "    <tr>\n",
       "      <th>75%</th>\n",
       "      <td>43.000000</td>\n",
       "      <td>3.000000</td>\n",
       "      <td>8380.250000</td>\n",
       "      <td>18.000000</td>\n",
       "      <td>1.000000</td>\n",
       "      <td>10.000000</td>\n",
       "      <td>3.000000</td>\n",
       "    </tr>\n",
       "    <tr>\n",
       "      <th>max</th>\n",
       "      <td>60.000000</td>\n",
       "      <td>5.000000</td>\n",
       "      <td>19999.000000</td>\n",
       "      <td>25.000000</td>\n",
       "      <td>3.000000</td>\n",
       "      <td>40.000000</td>\n",
       "      <td>15.000000</td>\n",
       "    </tr>\n",
       "  </tbody>\n",
       "</table>\n",
       "</div>"
      ],
      "text/plain": [
       "               Age     JobLevel  MonthlyIncome  PercentSalaryHike  \\\n",
       "count  1676.000000  1676.000000    1676.000000        1676.000000   \n",
       "mean     36.866348     2.066826    6516.512530          15.196897   \n",
       "std       9.129126     1.113423    4728.456618           3.646550   \n",
       "min      18.000000     1.000000    1009.000000          11.000000   \n",
       "25%      30.000000     1.000000    2928.250000          12.000000   \n",
       "50%      36.000000     2.000000    4899.000000          14.000000   \n",
       "75%      43.000000     3.000000    8380.250000          18.000000   \n",
       "max      60.000000     5.000000   19999.000000          25.000000   \n",
       "\n",
       "             Shift  YearsAtCompany  YearsSinceLastPromotion  \n",
       "count  1676.000000     1676.000000              1676.000000  \n",
       "mean      0.806086        7.033413                 2.200477  \n",
       "std       0.855527        6.098991                 3.229587  \n",
       "min       0.000000        0.000000                 0.000000  \n",
       "25%       0.000000        3.000000                 0.000000  \n",
       "50%       1.000000        5.000000                 1.000000  \n",
       "75%       1.000000       10.000000                 3.000000  \n",
       "max       3.000000       40.000000                15.000000  "
      ]
     },
     "execution_count": 15,
     "metadata": {},
     "output_type": "execute_result"
    }
   ],
   "source": [
    "wcomp_df = main_df[['Attrition','Age', 'Gender','JobLevel',\n",
    "                   'MonthlyIncome','OverTime', 'PercentSalaryHike', 'Shift',\n",
    "                   'YearsAtCompany', 'YearsSinceLastPromotion']]\n",
    "wcomp_df.describe()\n",
    "\n"
   ]
  },
  {
   "cell_type": "code",
   "execution_count": 16,
   "metadata": {
    "execution": {
     "iopub.execute_input": "2022-08-28T11:52:07.390475Z",
     "iopub.status.busy": "2022-08-28T11:52:07.390041Z",
     "iopub.status.idle": "2022-08-28T11:52:07.587025Z",
     "shell.execute_reply": "2022-08-28T11:52:07.585887Z",
     "shell.execute_reply.started": "2022-08-28T11:52:07.390433Z"
    }
   },
   "outputs": [
    {
     "data": {
      "text/plain": [
       "<AxesSubplot:title={'center':'Histogram showing in percentage of total employees, the attrition of OT and non-OT employees'}, xlabel='OverTime', ylabel='Percent'>"
      ]
     },
     "execution_count": 16,
     "metadata": {},
     "output_type": "execute_result"
    },
    {
     "data": {
      "image/png": "[encoded data removed]",
      "text/plain": [
       "<Figure size 576x576 with 1 Axes>"
      ]
     },
     "metadata": {
      "needs_background": "light"
     },
     "output_type": "display_data"
    }
   ],
   "source": [
    "plt.figure(figsize=(8,8))\n",
    "plt.title('Histogram showing in percentage of total employees, the attrition of OT and non-OT employees')\n",
    "sns.histplot(data= wcomp_df, x= 'OverTime' , hue = 'Attrition', multiple = 'dodge'\n",
    "             , stat = 'percent', shrink=0.8)"
   ]
  },
  {
   "cell_type": "code",
   "execution_count": 17,
   "metadata": {
    "execution": {
     "iopub.execute_input": "2022-08-28T11:52:07.589392Z",
     "iopub.status.busy": "2022-08-28T11:52:07.588947Z",
     "iopub.status.idle": "2022-08-28T11:52:07.600376Z",
     "shell.execute_reply": "2022-08-28T11:52:07.599492Z",
     "shell.execute_reply.started": "2022-08-28T11:52:07.589339Z"
    }
   },
   "outputs": [
    {
     "name": "stdout",
     "output_type": "stream",
     "text": [
      "Percentage of overtime employee attrition\n",
      " 29.202\n",
      "\n",
      "Percentage of non-overtime employee attrition\n",
      " 5.0\n"
     ]
    }
   ],
   "source": [
    "ot_tot = (wcomp_df['OverTime'] == 'Yes').sum() #total amount of employees who do overtime\n",
    "ot_y = ((wcomp_df['OverTime'] == 'Yes') & (wcomp_df['Attrition'] == 'Yes')).sum() #total of those with attrition\n",
    "print('Percentage of overtime employee attrition\\n', round((ot_y/ot_tot*100), 3))\n",
    "\n",
    "not_tot = (wcomp_df['OverTime'] == 'No').sum() #total amount of employees who don't do overtime\n",
    "not_y = ((wcomp_df['OverTime'] == 'No') & (wcomp_df['Attrition'] == 'Yes')).sum() #total of those with attrition\n",
    "print('\\nPercentage of non-overtime employee attrition\\n', round((not_y/not_tot*100), 3))"
   ]
  },
  {
   "cell_type": "markdown",
   "metadata": {},
   "source": [
    "- **We see that there is a significantly higher percentage (29% against 5%) of OverTime employees leave the company.**"
   ]
  },
  {
   "cell_type": "code",
   "execution_count": 18,
   "metadata": {
    "execution": {
     "iopub.execute_input": "2022-08-28T11:52:07.602109Z",
     "iopub.status.busy": "2022-08-28T11:52:07.601781Z",
     "iopub.status.idle": "2022-08-28T11:52:07.860058Z",
     "shell.execute_reply": "2022-08-28T11:52:07.858907Z",
     "shell.execute_reply.started": "2022-08-28T11:52:07.602079Z"
    }
   },
   "outputs": [
    {
     "data": {
      "text/plain": [
       "<AxesSubplot:xlabel='OverTime', ylabel='MonthlyIncome'>"
      ]
     },
     "execution_count": 18,
     "metadata": {},
     "output_type": "execute_result"
    },
    {
     "data": {
      "image/png": "[encoded data removed]",
      "text/plain": [
       "<Figure size 576x576 with 1 Axes>"
      ]
     },
     "metadata": {
      "needs_background": "light"
     },
     "output_type": "display_data"
    }
   ],
   "source": [
    "plt.figure(figsize=(8,8))\n",
    "sns.stripplot(data = wcomp_df, x = 'OverTime', y = 'MonthlyIncome', hue = 'Attrition', dodge = True)"
   ]
  },
  {
   "cell_type": "markdown",
   "metadata": {},
   "source": [
    "- **A further look at the OverTime employees show that lower MonthIncome also correlates with higher attrition**"
   ]
  },
  {
   "cell_type": "code",
   "execution_count": 19,
   "metadata": {
    "execution": {
     "iopub.execute_input": "2022-08-28T11:52:53.524458Z",
     "iopub.status.busy": "2022-08-28T11:52:53.524026Z",
     "iopub.status.idle": "2022-08-28T11:52:53.673775Z",
     "shell.execute_reply": "2022-08-28T11:52:53.672657Z",
     "shell.execute_reply.started": "2022-08-28T11:52:53.524419Z"
    }
   },
   "outputs": [
    {
     "data": {
      "text/plain": [
       "<AxesSubplot:xlabel='Attrition', ylabel='PercentSalaryHike'>"
      ]
     },
     "execution_count": 19,
     "metadata": {},
     "output_type": "execute_result"
    },
    {
     "data": {
      "image/png": "[encoded data removed]",
      "text/plain": [
       "<Figure size 576x576 with 1 Axes>"
      ]
     },
     "metadata": {
      "needs_background": "light"
     },
     "output_type": "display_data"
    }
   ],
   "source": [
    "#sns.jointplot(data = wcomp_df, x = 'PercentSalaryHike', y = 'MonthlyIncome', hue = 'Attrition')\n",
    "plt.figure(figsize=(8,8))\n",
    "sns.boxplot(data = wcomp_df, x = 'Attrition', y = 'PercentSalaryHike')"
   ]
  },
  {
   "cell_type": "markdown",
   "metadata": {},
   "source": [
    "- **We see that salary hikes have little impact on lowering the attrition of OverTime employees.**"
   ]
  },
  {
   "cell_type": "code",
   "execution_count": 20,
   "metadata": {
    "execution": {
     "iopub.status.busy": "2022-08-28T11:52:07.930598Z",
     "iopub.status.idle": "2022-08-28T11:52:07.931041Z",
     "shell.execute_reply": "2022-08-28T11:52:07.930861Z",
     "shell.execute_reply.started": "2022-08-28T11:52:07.930841Z"
    }
   },
   "outputs": [
    {
     "data": {
      "text/plain": [
       "<AxesSubplot:xlabel='Shift', ylabel='Age'>"
      ]
     },
     "execution_count": 20,
     "metadata": {},
     "output_type": "execute_result"
    },
    {
     "data": {
      "image/png": "[encoded data removed]",
      "text/plain": [
       "<Figure size 576x576 with 1 Axes>"
      ]
     },
     "metadata": {
      "needs_background": "light"
     },
     "output_type": "display_data"
    }
   ],
   "source": [
    "plt.figure(figsize=(8,8))\n",
    "sns.stripplot(data = wcomp_df, x = 'Shift', y = 'Age', hue = 'Attrition', dodge = True)"
   ]
  },
  {
   "cell_type": "markdown",
   "metadata": {},
   "source": [
    "- **Mean for shifts is 0.8. Most employees either have 1 or no shift work, there is little effect of shifts on attrition.**"
   ]
  },
  {
   "cell_type": "markdown",
   "metadata": {},
   "source": [
    "# Conclusions of EDA:\n",
    "Factors that show a positive correlation with attrition:\n",
    "1. Marital Status - single\n",
    "2. Age - 35 and below\n",
    "3. DistanceFromHome - for Married and Divorced employees\n",
    "4. Ratings below average (2.5 and below) for\n",
    "- JobInvolvement\n",
    "- EnvironmentSatisfaction\n",
    "- JobSatisfaction\n",
    "5. OverTime employees\n",
    "6. OverTime employees with monthly income up till 7500\n",
    "\n",
    "Salary Hikes may not be a useful way to prevent attrition in employees."
   ]
  },
  {
   "cell_type": "markdown",
   "metadata": {},
   "source": [
    "#  **Part 2 Predictive Analysis**\n",
    "\n",
    "In this section, we will use the significant factors to fit a decision tree model in predicting employee attrition.\n"
   ]
  },
  {
   "cell_type": "markdown",
   "metadata": {},
   "source": [
    "# 1. Choosing the columns and splitting the data\n",
    "\n",
    "There are two categorical data, hence we will use get_dummies to replace the categories."
   ]
  },
  {
   "cell_type": "code",
   "execution_count": 21,
   "metadata": {
    "execution": {
     "iopub.execute_input": "2022-08-28T13:29:26.932812Z",
     "iopub.status.busy": "2022-08-28T13:29:26.932366Z",
     "iopub.status.idle": "2022-08-28T13:29:26.956567Z",
     "shell.execute_reply": "2022-08-28T13:29:26.955412Z",
     "shell.execute_reply.started": "2022-08-28T13:29:26.932774Z"
    }
   },
   "outputs": [
    {
     "data": {
      "text/html": [
       "<div>\n",
       "<style scoped>\n",
       "    .dataframe tbody tr th:only-of-type {\n",
       "        vertical-align: middle;\n",
       "    }\n",
       "\n",
       "    .dataframe tbody tr th {\n",
       "        vertical-align: top;\n",
       "    }\n",
       "\n",
       "    .dataframe thead th {\n",
       "        text-align: right;\n",
       "    }\n",
       "</style>\n",
       "<table border=\"1\" class=\"dataframe\">\n",
       "  <thead>\n",
       "    <tr style=\"text-align: right;\">\n",
       "      <th></th>\n",
       "      <th>Age</th>\n",
       "      <th>DistanceFromHome</th>\n",
       "      <th>MonthlyIncome</th>\n",
       "      <th>JobInvolvement</th>\n",
       "      <th>EnvironmentSatisfaction</th>\n",
       "      <th>JobSatisfaction</th>\n",
       "      <th>OverTime_Yes</th>\n",
       "      <th>MaritalStatus_Divorced</th>\n",
       "      <th>MaritalStatus_Married</th>\n",
       "      <th>MaritalStatus_Single</th>\n",
       "    </tr>\n",
       "    <tr>\n",
       "      <th>EmployeeID</th>\n",
       "      <th></th>\n",
       "      <th></th>\n",
       "      <th></th>\n",
       "      <th></th>\n",
       "      <th></th>\n",
       "      <th></th>\n",
       "      <th></th>\n",
       "      <th></th>\n",
       "      <th></th>\n",
       "      <th></th>\n",
       "    </tr>\n",
       "  </thead>\n",
       "  <tbody>\n",
       "    <tr>\n",
       "      <th>1313919</th>\n",
       "      <td>41</td>\n",
       "      <td>1</td>\n",
       "      <td>5993</td>\n",
       "      <td>3</td>\n",
       "      <td>2</td>\n",
       "      <td>4</td>\n",
       "      <td>1</td>\n",
       "      <td>0</td>\n",
       "      <td>0</td>\n",
       "      <td>1</td>\n",
       "    </tr>\n",
       "    <tr>\n",
       "      <th>1200302</th>\n",
       "      <td>49</td>\n",
       "      <td>8</td>\n",
       "      <td>5130</td>\n",
       "      <td>2</td>\n",
       "      <td>3</td>\n",
       "      <td>2</td>\n",
       "      <td>0</td>\n",
       "      <td>0</td>\n",
       "      <td>1</td>\n",
       "      <td>0</td>\n",
       "    </tr>\n",
       "    <tr>\n",
       "      <th>1060315</th>\n",
       "      <td>37</td>\n",
       "      <td>2</td>\n",
       "      <td>2090</td>\n",
       "      <td>2</td>\n",
       "      <td>4</td>\n",
       "      <td>3</td>\n",
       "      <td>1</td>\n",
       "      <td>0</td>\n",
       "      <td>0</td>\n",
       "      <td>1</td>\n",
       "    </tr>\n",
       "    <tr>\n",
       "      <th>1272912</th>\n",
       "      <td>33</td>\n",
       "      <td>3</td>\n",
       "      <td>2909</td>\n",
       "      <td>3</td>\n",
       "      <td>4</td>\n",
       "      <td>3</td>\n",
       "      <td>1</td>\n",
       "      <td>0</td>\n",
       "      <td>1</td>\n",
       "      <td>0</td>\n",
       "    </tr>\n",
       "    <tr>\n",
       "      <th>1414939</th>\n",
       "      <td>27</td>\n",
       "      <td>2</td>\n",
       "      <td>3468</td>\n",
       "      <td>3</td>\n",
       "      <td>1</td>\n",
       "      <td>2</td>\n",
       "      <td>0</td>\n",
       "      <td>0</td>\n",
       "      <td>1</td>\n",
       "      <td>0</td>\n",
       "    </tr>\n",
       "  </tbody>\n",
       "</table>\n",
       "</div>"
      ],
      "text/plain": [
       "            Age  DistanceFromHome  MonthlyIncome  JobInvolvement  \\\n",
       "EmployeeID                                                         \n",
       "1313919      41                 1           5993               3   \n",
       "1200302      49                 8           5130               2   \n",
       "1060315      37                 2           2090               2   \n",
       "1272912      33                 3           2909               3   \n",
       "1414939      27                 2           3468               3   \n",
       "\n",
       "            EnvironmentSatisfaction  JobSatisfaction  OverTime_Yes  \\\n",
       "EmployeeID                                                           \n",
       "1313919                           2                4             1   \n",
       "1200302                           3                2             0   \n",
       "1060315                           4                3             1   \n",
       "1272912                           4                3             1   \n",
       "1414939                           1                2             0   \n",
       "\n",
       "            MaritalStatus_Divorced  MaritalStatus_Married  \\\n",
       "EmployeeID                                                  \n",
       "1313919                          0                      0   \n",
       "1200302                          0                      1   \n",
       "1060315                          0                      0   \n",
       "1272912                          0                      1   \n",
       "1414939                          0                      1   \n",
       "\n",
       "            MaritalStatus_Single  \n",
       "EmployeeID                        \n",
       "1313919                        1  \n",
       "1200302                        0  \n",
       "1060315                        1  \n",
       "1272912                        0  \n",
       "1414939                        0  "
      ]
     },
     "execution_count": 21,
     "metadata": {},
     "output_type": "execute_result"
    }
   ],
   "source": [
    "sig_factors = ['OverTime','Age','DistanceFromHome','MaritalStatus', 'MonthlyIncome', \n",
    "               'JobInvolvement','EnvironmentSatisfaction','JobSatisfaction',]\n",
    "\n",
    "test_df = main_df[sig_factors]\n",
    "one_hot_data = pd.get_dummies(test_df, columns =['OverTime'], drop_first = True) \n",
    "#this will remove colinearity\n",
    "\n",
    "one_hot_data = pd.get_dummies(one_hot_data, columns =['MaritalStatus']) \n",
    "#there are three categories here so will not drop any columns from the dummies\n",
    "\n",
    "target = main_df['Attrition']\n",
    "\n",
    "one_hot_data.head()"
   ]
  },
  {
   "cell_type": "markdown",
   "metadata": {},
   "source": [
    "# **2. Splitting the data for training and testing.**\n",
    "We will use a training size of 80%. We will try a few max_depths to find the best model accuracy and precision."
   ]
  },
  {
   "cell_type": "code",
   "execution_count": 22,
   "metadata": {
    "execution": {
     "iopub.execute_input": "2022-08-28T14:04:37.172284Z",
     "iopub.status.busy": "2022-08-28T14:04:37.171140Z",
     "iopub.status.idle": "2022-08-28T14:04:37.254346Z",
     "shell.execute_reply": "2022-08-28T14:04:37.253026Z",
     "shell.execute_reply.started": "2022-08-28T14:04:37.172230Z"
    }
   },
   "outputs": [
    {
     "name": "stdout",
     "output_type": "stream",
     "text": [
      "Max depth of tree is 3\n",
      "Model accuracy: 0.9107\n",
      "Precision score:0.6818\n",
      "Confusion matrix:\n",
      " [[291   7]\n",
      " [ 23  15]]\n",
      "\n",
      "Max depth of tree is 4\n",
      "Model accuracy: 0.9077\n",
      "Precision score:0.6296\n",
      "Confusion matrix:\n",
      " [[288  10]\n",
      " [ 21  17]]\n",
      "\n",
      "Max depth of tree is 6\n",
      "Model accuracy: 0.8958\n",
      "Precision score:0.5405\n",
      "Confusion matrix:\n",
      " [[281  17]\n",
      " [ 18  20]]\n",
      "\n",
      "Max depth of tree is 8\n",
      "Model accuracy: 0.8869\n",
      "Precision score:0.5000\n",
      "Confusion matrix:\n",
      " [[279  19]\n",
      " [ 19  19]]\n",
      "\n",
      "Max depth of tree is 10\n",
      "Model accuracy: 0.8750\n",
      "Precision score:0.4545\n",
      "Confusion matrix:\n",
      " [[274  24]\n",
      " [ 18  20]]\n",
      "\n",
      "Max depth of tree is 12\n",
      "Model accuracy: 0.8631\n",
      "Precision score:0.4000\n",
      "Confusion matrix:\n",
      " [[274  24]\n",
      " [ 22  16]]\n",
      "\n",
      "Max depth of tree is 14\n",
      "Model accuracy: 0.8750\n",
      "Precision score:0.4583\n",
      "Confusion matrix:\n",
      " [[272  26]\n",
      " [ 16  22]]\n",
      "\n"
     ]
    }
   ],
   "source": [
    "from sklearn.model_selection import train_test_split\n",
    "from sklearn.tree import DecisionTreeClassifier\n",
    "from sklearn import tree\n",
    "from sklearn.metrics import accuracy_score\n",
    "from sklearn.metrics import confusion_matrix\n",
    "\n",
    "X = one_hot_data\n",
    "y = target\n",
    "X_train, X_test, y_train, y_test = train_test_split(X, y, random_state = 1, train_size = 0.8)\n",
    "\n",
    "depths = [3,4,6,8,10,12,20]\n",
    "\n",
    "for d in depths:\n",
    "    model = DecisionTreeClassifier(max_depth = d, random_state = 1)\n",
    "    model.fit(X_train, y_train)\n",
    "    print('Max depth of tree is', model.tree_.max_depth)\n",
    "\n",
    "    y_predict = model.predict(X_test)\n",
    "    score = accuracy_score(y_test, y_predict)\n",
    "    print('Model accuracy: {0:0.4f}'.format(score))\n",
    "    \n",
    "    cm = confusion_matrix(y_test, y_predict)\n",
    "    TP = cm[1][1]\n",
    "    FP = cm[0][1]\n",
    "    ps = TP/(TP+FP)\n",
    "    print('Precision score:{0:0.4f}'.format(ps))\n",
    "    print('Confusion matrix:\\n', cm)\n",
    "    print()"
   ]
  },
  {
   "cell_type": "markdown",
   "metadata": {},
   "source": [
    "# **Model Finalisation**\n",
    "**The algorithm favours a max depth of 14, however we see the highest accuracy and precision at max_depth of just 3.**\n",
    "**We will go ahead with 3.**"
   ]
  },
  {
   "cell_type": "code",
   "execution_count": 23,
   "metadata": {
    "execution": {
     "iopub.execute_input": "2022-08-28T14:06:47.289280Z",
     "iopub.status.busy": "2022-08-28T14:06:47.288431Z",
     "iopub.status.idle": "2022-08-28T14:06:47.310041Z",
     "shell.execute_reply": "2022-08-28T14:06:47.309172Z",
     "shell.execute_reply.started": "2022-08-28T14:06:47.289228Z"
    }
   },
   "outputs": [
    {
     "name": "stdout",
     "output_type": "stream",
     "text": [
      "Max depth of tree is 3\n",
      "Model accuracy: 0.9107\n",
      "Precision score:0.6818\n",
      "Confusion matrix:\n",
      " [[291   7]\n",
      " [ 23  15]]\n"
     ]
    }
   ],
   "source": [
    "model = DecisionTreeClassifier(max_depth = 3, random_state = 1)\n",
    "model.fit(X_train, y_train)\n",
    "print('Max depth of tree is', model.tree_.max_depth)\n",
    "\n",
    "y_predict = model.predict(X_test)\n",
    "score = accuracy_score(y_test, y_predict)\n",
    "print('Model accuracy: {0:0.4f}'.format(score))\n",
    "cm = confusion_matrix(y_test, y_predict)\n",
    "TP = cm[1][1]\n",
    "FP = cm[0][1]\n",
    "ps = TP/(TP+FP)\n",
    "print('Precision score:{0:0.4f}'.format(ps))\n",
    "print('Confusion matrix:\\n', cm)"
   ]
  },
  {
   "cell_type": "markdown",
   "metadata": {},
   "source": [
    "**We'll save the tree for visualization on the model workings.**"
   ]
  },
  {
   "cell_type": "code",
   "execution_count": 24,
   "metadata": {
    "execution": {
     "iopub.execute_input": "2022-08-28T14:07:11.619872Z",
     "iopub.status.busy": "2022-08-28T14:07:11.619472Z",
     "iopub.status.idle": "2022-08-28T14:07:11.822070Z",
     "shell.execute_reply": "2022-08-28T14:07:11.820951Z",
     "shell.execute_reply.started": "2022-08-28T14:07:11.619837Z"
    }
   },
   "outputs": [
    {
     "data": {
      "image/png": "[encoded data removed]",
      "text/plain": [
       "<Figure size 432x288 with 2 Axes>"
      ]
     },
     "metadata": {
      "needs_background": "light"
     },
     "output_type": "display_data"
    }
   ],
   "source": [
    "from sklearn.metrics import ConfusionMatrixDisplay, precision_score\n",
    "cm = confusion_matrix(y_test, y_predict)\n",
    "\n",
    "disp = ConfusionMatrixDisplay(confusion_matrix = cm)\n",
    "disp.plot(cmap = \"Blues\")\n",
    "plt.show()\n",
    "\n",
    "#To learn how to calculate precision_score - not sure about how to get y_true yet\n",
    "#y_true = ????\n",
    "#p_score = precision_score(y_true, y_pred)\n",
    "#print('Precision score: {0:0.4f}'.format(p_score))\n"
   ]
  },
  {
   "cell_type": "code",
   "execution_count": 27,
   "metadata": {
    "execution": {
     "iopub.execute_input": "2022-08-28T14:07:17.917773Z",
     "iopub.status.busy": "2022-08-28T14:07:17.917313Z",
     "iopub.status.idle": "2022-08-28T14:07:17.969951Z",
     "shell.execute_reply": "2022-08-28T14:07:17.968521Z",
     "shell.execute_reply.started": "2022-08-28T14:07:17.917728Z"
    }
   },
   "outputs": [
    {
     "data": {
      "text/plain": [
       "'import graphviz \\n\\ndot_data = tree.export_graphviz(model, out_file=None) \\ngraph = graphviz.Source(dot_data) \\ngraph.render(\"tree\") '"
      ]
     },
     "execution_count": 27,
     "metadata": {},
     "output_type": "execute_result"
    }
   ],
   "source": [
    "import graphviz \n",
    "\n",
    "dot_data = tree.export_graphviz(model, out_file=None) \n",
    "graph = graphviz.Source(dot_data) \n",
    "graph.render(\"tree\")"
   ]
  },
  {
   "cell_type": "markdown",
   "metadata": {},
   "source": []
  }
 ],
 "metadata": {
  "kernelspec": {
   "display_name": "Python 3 (ipykernel)",
   "language": "python",
   "name": "python3"
  },
  "language_info": {
   "codemirror_mode": {
    "name": "ipython",
    "version": 3
   },
   "file_extension": ".py",
   "mimetype": "text/x-python",
   "name": "python",
   "nbconvert_exporter": "python",
   "pygments_lexer": "ipython3",
   "version": "3.9.12"
  }
 },
 "nbformat": 4,
 "nbformat_minor": 4
}
